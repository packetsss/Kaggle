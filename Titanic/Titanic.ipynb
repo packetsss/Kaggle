{
 "metadata": {
  "language_info": {
   "codemirror_mode": {
    "name": "ipython",
    "version": 3
   },
   "file_extension": ".py",
   "mimetype": "text/x-python",
   "name": "python",
   "nbconvert_exporter": "python",
   "pygments_lexer": "ipython3",
   "version": "3.8.5"
  },
  "orig_nbformat": 4,
  "kernelspec": {
   "name": "python3",
   "display_name": "Python 3.8.5 64-bit ('base': conda)"
  },
  "interpreter": {
   "hash": "ecf5722fdaf1897a315d257d89d94520bfcaa453217d5becf09b39e73618b0de"
  }
 },
 "nbformat": 4,
 "nbformat_minor": 2,
 "cells": [
  {
   "cell_type": "code",
   "execution_count": 750,
   "metadata": {},
   "outputs": [
    {
     "output_type": "execute_result",
     "data": {
      "text/plain": [
       "   PassengerId  Survived  Pclass  \\\n",
       "0            1         0       3   \n",
       "1            2         1       1   \n",
       "2            3         1       3   \n",
       "3            4         1       1   \n",
       "4            5         0       3   \n",
       "\n",
       "                                                Name     Sex   Age  SibSp  \\\n",
       "0                            Braund, Mr. Owen Harris    male  22.0      1   \n",
       "1  Cumings, Mrs. John Bradley (Florence Briggs Th...  female  38.0      1   \n",
       "2                             Heikkinen, Miss. Laina  female  26.0      0   \n",
       "3       Futrelle, Mrs. Jacques Heath (Lily May Peel)  female  35.0      1   \n",
       "4                           Allen, Mr. William Henry    male  35.0      0   \n",
       "\n",
       "   Parch            Ticket     Fare Cabin Embarked  \n",
       "0      0         A/5 21171   7.2500   NaN        S  \n",
       "1      0          PC 17599  71.2833   C85        C  \n",
       "2      0  STON/O2. 3101282   7.9250   NaN        S  \n",
       "3      0            113803  53.1000  C123        S  \n",
       "4      0            373450   8.0500   NaN        S  "
      ],
      "text/html": "<div>\n<style scoped>\n    .dataframe tbody tr th:only-of-type {\n        vertical-align: middle;\n    }\n\n    .dataframe tbody tr th {\n        vertical-align: top;\n    }\n\n    .dataframe thead th {\n        text-align: right;\n    }\n</style>\n<table border=\"1\" class=\"dataframe\">\n  <thead>\n    <tr style=\"text-align: right;\">\n      <th></th>\n      <th>PassengerId</th>\n      <th>Survived</th>\n      <th>Pclass</th>\n      <th>Name</th>\n      <th>Sex</th>\n      <th>Age</th>\n      <th>SibSp</th>\n      <th>Parch</th>\n      <th>Ticket</th>\n      <th>Fare</th>\n      <th>Cabin</th>\n      <th>Embarked</th>\n    </tr>\n  </thead>\n  <tbody>\n    <tr>\n      <th>0</th>\n      <td>1</td>\n      <td>0</td>\n      <td>3</td>\n      <td>Braund, Mr. Owen Harris</td>\n      <td>male</td>\n      <td>22.0</td>\n      <td>1</td>\n      <td>0</td>\n      <td>A/5 21171</td>\n      <td>7.2500</td>\n      <td>NaN</td>\n      <td>S</td>\n    </tr>\n    <tr>\n      <th>1</th>\n      <td>2</td>\n      <td>1</td>\n      <td>1</td>\n      <td>Cumings, Mrs. John Bradley (Florence Briggs Th...</td>\n      <td>female</td>\n      <td>38.0</td>\n      <td>1</td>\n      <td>0</td>\n      <td>PC 17599</td>\n      <td>71.2833</td>\n      <td>C85</td>\n      <td>C</td>\n    </tr>\n    <tr>\n      <th>2</th>\n      <td>3</td>\n      <td>1</td>\n      <td>3</td>\n      <td>Heikkinen, Miss. Laina</td>\n      <td>female</td>\n      <td>26.0</td>\n      <td>0</td>\n      <td>0</td>\n      <td>STON/O2. 3101282</td>\n      <td>7.9250</td>\n      <td>NaN</td>\n      <td>S</td>\n    </tr>\n    <tr>\n      <th>3</th>\n      <td>4</td>\n      <td>1</td>\n      <td>1</td>\n      <td>Futrelle, Mrs. Jacques Heath (Lily May Peel)</td>\n      <td>female</td>\n      <td>35.0</td>\n      <td>1</td>\n      <td>0</td>\n      <td>113803</td>\n      <td>53.1000</td>\n      <td>C123</td>\n      <td>S</td>\n    </tr>\n    <tr>\n      <th>4</th>\n      <td>5</td>\n      <td>0</td>\n      <td>3</td>\n      <td>Allen, Mr. William Henry</td>\n      <td>male</td>\n      <td>35.0</td>\n      <td>0</td>\n      <td>0</td>\n      <td>373450</td>\n      <td>8.0500</td>\n      <td>NaN</td>\n      <td>S</td>\n    </tr>\n  </tbody>\n</table>\n</div>"
     },
     "metadata": {},
     "execution_count": 750
    }
   ],
   "source": [
    "import re\n",
    "import numpy as np\n",
    "import pandas as pd\n",
    "import seaborn as sn\n",
    "import tensorflow as tf\n",
    "from tensorflow import keras\n",
    "from matplotlib import pyplot as plt\n",
    "from sklearn.preprocessing import MinMaxScaler\n",
    "from sklearn.metrics import classification_report\n",
    "from sklearn.model_selection import train_test_split\n",
    "%matplotlib inline\n",
    "\n",
    "\n",
    "df = pd.read_csv(\"train.csv\")\n",
    "df_test = pd.read_csv(\"test.csv\")\n",
    "\n",
    "\n",
    "df.head()"
   ]
  },
  {
   "cell_type": "code",
   "execution_count": 751,
   "metadata": {},
   "outputs": [
    {
     "output_type": "execute_result",
     "data": {
      "text/plain": [
       "       PassengerId    Survived      Pclass         Age       SibSp  \\\n",
       "count   891.000000  891.000000  891.000000  714.000000  891.000000   \n",
       "mean    446.000000    0.383838    2.308642   29.699118    0.523008   \n",
       "std     257.353842    0.486592    0.836071   14.526497    1.102743   \n",
       "min       1.000000    0.000000    1.000000    0.420000    0.000000   \n",
       "25%     223.500000    0.000000    2.000000   20.125000    0.000000   \n",
       "50%     446.000000    0.000000    3.000000   28.000000    0.000000   \n",
       "75%     668.500000    1.000000    3.000000   38.000000    1.000000   \n",
       "max     891.000000    1.000000    3.000000   80.000000    8.000000   \n",
       "\n",
       "            Parch        Fare  \n",
       "count  891.000000  891.000000  \n",
       "mean     0.381594   32.204208  \n",
       "std      0.806057   49.693429  \n",
       "min      0.000000    0.000000  \n",
       "25%      0.000000    7.910400  \n",
       "50%      0.000000   14.454200  \n",
       "75%      0.000000   31.000000  \n",
       "max      6.000000  512.329200  "
      ],
      "text/html": "<div>\n<style scoped>\n    .dataframe tbody tr th:only-of-type {\n        vertical-align: middle;\n    }\n\n    .dataframe tbody tr th {\n        vertical-align: top;\n    }\n\n    .dataframe thead th {\n        text-align: right;\n    }\n</style>\n<table border=\"1\" class=\"dataframe\">\n  <thead>\n    <tr style=\"text-align: right;\">\n      <th></th>\n      <th>PassengerId</th>\n      <th>Survived</th>\n      <th>Pclass</th>\n      <th>Age</th>\n      <th>SibSp</th>\n      <th>Parch</th>\n      <th>Fare</th>\n    </tr>\n  </thead>\n  <tbody>\n    <tr>\n      <th>count</th>\n      <td>891.000000</td>\n      <td>891.000000</td>\n      <td>891.000000</td>\n      <td>714.000000</td>\n      <td>891.000000</td>\n      <td>891.000000</td>\n      <td>891.000000</td>\n    </tr>\n    <tr>\n      <th>mean</th>\n      <td>446.000000</td>\n      <td>0.383838</td>\n      <td>2.308642</td>\n      <td>29.699118</td>\n      <td>0.523008</td>\n      <td>0.381594</td>\n      <td>32.204208</td>\n    </tr>\n    <tr>\n      <th>std</th>\n      <td>257.353842</td>\n      <td>0.486592</td>\n      <td>0.836071</td>\n      <td>14.526497</td>\n      <td>1.102743</td>\n      <td>0.806057</td>\n      <td>49.693429</td>\n    </tr>\n    <tr>\n      <th>min</th>\n      <td>1.000000</td>\n      <td>0.000000</td>\n      <td>1.000000</td>\n      <td>0.420000</td>\n      <td>0.000000</td>\n      <td>0.000000</td>\n      <td>0.000000</td>\n    </tr>\n    <tr>\n      <th>25%</th>\n      <td>223.500000</td>\n      <td>0.000000</td>\n      <td>2.000000</td>\n      <td>20.125000</td>\n      <td>0.000000</td>\n      <td>0.000000</td>\n      <td>7.910400</td>\n    </tr>\n    <tr>\n      <th>50%</th>\n      <td>446.000000</td>\n      <td>0.000000</td>\n      <td>3.000000</td>\n      <td>28.000000</td>\n      <td>0.000000</td>\n      <td>0.000000</td>\n      <td>14.454200</td>\n    </tr>\n    <tr>\n      <th>75%</th>\n      <td>668.500000</td>\n      <td>1.000000</td>\n      <td>3.000000</td>\n      <td>38.000000</td>\n      <td>1.000000</td>\n      <td>0.000000</td>\n      <td>31.000000</td>\n    </tr>\n    <tr>\n      <th>max</th>\n      <td>891.000000</td>\n      <td>1.000000</td>\n      <td>3.000000</td>\n      <td>80.000000</td>\n      <td>8.000000</td>\n      <td>6.000000</td>\n      <td>512.329200</td>\n    </tr>\n  </tbody>\n</table>\n</div>"
     },
     "metadata": {},
     "execution_count": 751
    }
   ],
   "source": [
    "# VERY USEFUL METHOD\n",
    "df.describe()"
   ]
  },
  {
   "source": [
    "## Preprocessing"
   ],
   "cell_type": "markdown",
   "metadata": {}
  },
  {
   "cell_type": "code",
   "execution_count": 752,
   "metadata": {},
   "outputs": [],
   "source": [
    "def feature_engineering(df):\n",
    "    df['FamilySize'] = df['SibSp'] + df['Parch'] + 1\n",
    "\n",
    "    def get_title(name):\n",
    "        title_search = re.search(' ([A-Za-z]+)\\.', name)\n",
    "        # If the title exists, extract and return it.\n",
    "        if title_search:\n",
    "            return title_search.group(1)\n",
    "        return \"\"\n",
    "\n",
    "    # Create a new feature Title, containing the titles of passenger names\n",
    "    df['Title'] = df['Name'].apply(get_title)\n",
    "\n",
    "    # Group all non-common titles into one single grouping \"Rare\"\n",
    "    df['Title'] = df['Title'].replace(['Lady', 'Countess','Capt', 'Col','Don', 'Dr', 'Major', 'Rev', 'Sir', 'Jonkheer', 'Dona'], 'Rare')\n",
    "    df['Title'] = df['Title'].replace('Mlle', 'Miss')\n",
    "    df['Title'] = df['Title'].replace('Ms', 'Miss')\n",
    "    df['Title'] = df['Title'].replace('Mme', 'Mrs')\n",
    "\n",
    "    ## create bin for age features\n",
    "    df['Age_bin'] = pd.cut(df['Age'], bins=[0, 12, 20, 40, 120], labels=['Children', 'Teenage', 'Adult', 'Elder'])\n",
    "    \n",
    "    ## create bin for fare features\n",
    "    df['Fare_bin'] = pd.cut(df['Fare'], bins=[0,7.91,14.45,31,120], labels=['Low_fare', 'median_fare', 'Average_fare', 'high_fare'])\n",
    "    \n",
    "    return df\n",
    "\n",
    "def preprocess(df):\n",
    "    # IMPORTANT TO CHECK if any columns has NaN values !!!!!!!\n",
    "    df['Fare'].fillna(df['Fare'].median(), inplace=True)\n",
    "    df['Embarked'].fillna(df['Embarked'].mode()[0], inplace=True)\n",
    "    df['Age'].fillna(df['Age'].median(), inplace=True)\n",
    "\n",
    "    # Feature Engineering\n",
    "    df = feature_engineering(df)\n",
    "\n",
    "    # One Hot Encoding\n",
    "    df = pd.get_dummies(df, columns = [\"Sex\",\"Title\",\"Age_bin\",\"Embarked\",\"Fare_bin\"],\n",
    "                             prefix=[\"Sex\",\"Title\",\"Age_type\",\"Em_type\",\"Fare_type\"])\n",
    "\n",
    "    # Scaling\n",
    "    column_to_scale = [\"Pclass\", \"Age\", \"Fare\", \"SibSp\", \"Parch\", \"FamilySize\"]\n",
    "    df[column_to_scale] = MinMaxScaler().fit_transform(df[column_to_scale])\n",
    "\n",
    "    # Drop useless columns\n",
    "    df.drop(['Age', 'Fare', 'Name', 'Ticket', 'Cabin', 'PassengerId'], axis=1, inplace=True)\n",
    "\n",
    "    return df"
   ]
  },
  {
   "cell_type": "code",
   "execution_count": 753,
   "metadata": {},
   "outputs": [
    {
     "output_type": "stream",
     "name": "stdout",
     "text": [
      "check the nan value in train data\nPclass                    0\nSibSp                     0\nParch                     0\nFamilySize                0\nSex_female                0\nSex_male                  0\nTitle_Master              0\nTitle_Miss                0\nTitle_Mr                  0\nTitle_Mrs                 0\nTitle_Rare                0\nAge_type_Children         0\nAge_type_Teenage          0\nAge_type_Adult            0\nAge_type_Elder            0\nEm_type_C                 0\nEm_type_Q                 0\nEm_type_S                 0\nFare_type_Low_fare        0\nFare_type_median_fare     0\nFare_type_Average_fare    0\nFare_type_high_fare       0\ndtype: int64\n__________________________________________________________________________________________\ncheck the nan value in test data\nPclass                    0\nSibSp                     0\nParch                     0\nFamilySize                0\nSex_female                0\nSex_male                  0\nTitle_Master              0\nTitle_Miss                0\nTitle_Mr                  0\nTitle_Mrs                 0\nTitle_Rare                0\nAge_type_Children         0\nAge_type_Teenage          0\nAge_type_Adult            0\nAge_type_Elder            0\nEm_type_C                 0\nEm_type_Q                 0\nEm_type_S                 0\nFare_type_Low_fare        0\nFare_type_median_fare     0\nFare_type_Average_fare    0\nFare_type_high_fare       0\ndtype: int64\n"
     ]
    }
   ],
   "source": [
    "df = preprocess(df)\n",
    "X, y = df.drop(\"Survived\", axis=1), df.Survived\n",
    "X_test = preprocess(df_test)"
   ]
  },
  {
   "cell_type": "code",
   "execution_count": 754,
   "metadata": {},
   "outputs": [
    {
     "output_type": "execute_result",
     "data": {
      "text/plain": [
       "((891, 22), (891,))"
      ]
     },
     "metadata": {},
     "execution_count": 754
    }
   ],
   "source": [
    "X.shape, y.shape"
   ]
  },
  {
   "cell_type": "code",
   "execution_count": 755,
   "metadata": {},
   "outputs": [
    {
     "output_type": "execute_result",
     "data": {
      "text/plain": [
       "           Pclass       SibSp       Parch  FamilySize  Sex_female    Sex_male  \\\n",
       "count  891.000000  891.000000  891.000000  891.000000  891.000000  891.000000   \n",
       "mean     0.654321    0.065376    0.063599    0.090460    0.352413    0.647587   \n",
       "std      0.418036    0.137843    0.134343    0.161346    0.477990    0.477990   \n",
       "min      0.000000    0.000000    0.000000    0.000000    0.000000    0.000000   \n",
       "25%      0.500000    0.000000    0.000000    0.000000    0.000000    0.000000   \n",
       "50%      1.000000    0.000000    0.000000    0.000000    0.000000    1.000000   \n",
       "75%      1.000000    0.125000    0.000000    0.100000    1.000000    1.000000   \n",
       "max      1.000000    1.000000    1.000000    1.000000    1.000000    1.000000   \n",
       "\n",
       "       Title_Master  Title_Miss    Title_Mr   Title_Mrs  ...  \\\n",
       "count    891.000000  891.000000  891.000000  891.000000  ...   \n",
       "mean       0.044893    0.207632    0.580247    0.141414  ...   \n",
       "std        0.207186    0.405840    0.493796    0.348644  ...   \n",
       "min        0.000000    0.000000    0.000000    0.000000  ...   \n",
       "25%        0.000000    0.000000    0.000000    0.000000  ...   \n",
       "50%        0.000000    0.000000    1.000000    0.000000  ...   \n",
       "75%        0.000000    0.000000    1.000000    0.000000  ...   \n",
       "max        1.000000    1.000000    1.000000    1.000000  ...   \n",
       "\n",
       "       Age_type_Teenage  Age_type_Adult  Age_type_Elder   Em_type_C  \\\n",
       "count        891.000000      891.000000      891.000000  891.000000   \n",
       "mean           0.123457        0.630752        0.168350    0.188552   \n",
       "std            0.329146        0.482872        0.374387    0.391372   \n",
       "min            0.000000        0.000000        0.000000    0.000000   \n",
       "25%            0.000000        0.000000        0.000000    0.000000   \n",
       "50%            0.000000        1.000000        0.000000    0.000000   \n",
       "75%            0.000000        1.000000        0.000000    0.000000   \n",
       "max            1.000000        1.000000        1.000000    1.000000   \n",
       "\n",
       "        Em_type_Q   Em_type_S  Fare_type_Low_fare  Fare_type_median_fare  \\\n",
       "count  891.000000  891.000000          891.000000             891.000000   \n",
       "mean     0.086420    0.725028            0.233446               0.243547   \n",
       "std      0.281141    0.446751            0.423261               0.429463   \n",
       "min      0.000000    0.000000            0.000000               0.000000   \n",
       "25%      0.000000    0.000000            0.000000               0.000000   \n",
       "50%      0.000000    1.000000            0.000000               0.000000   \n",
       "75%      0.000000    1.000000            0.000000               0.000000   \n",
       "max      1.000000    1.000000            1.000000               1.000000   \n",
       "\n",
       "       Fare_type_Average_fare  Fare_type_high_fare  \n",
       "count              891.000000           891.000000  \n",
       "mean                 0.257015             0.206510  \n",
       "std                  0.437233             0.405028  \n",
       "min                  0.000000             0.000000  \n",
       "25%                  0.000000             0.000000  \n",
       "50%                  0.000000             0.000000  \n",
       "75%                  1.000000             0.000000  \n",
       "max                  1.000000             1.000000  \n",
       "\n",
       "[8 rows x 22 columns]"
      ],
      "text/html": "<div>\n<style scoped>\n    .dataframe tbody tr th:only-of-type {\n        vertical-align: middle;\n    }\n\n    .dataframe tbody tr th {\n        vertical-align: top;\n    }\n\n    .dataframe thead th {\n        text-align: right;\n    }\n</style>\n<table border=\"1\" class=\"dataframe\">\n  <thead>\n    <tr style=\"text-align: right;\">\n      <th></th>\n      <th>Pclass</th>\n      <th>SibSp</th>\n      <th>Parch</th>\n      <th>FamilySize</th>\n      <th>Sex_female</th>\n      <th>Sex_male</th>\n      <th>Title_Master</th>\n      <th>Title_Miss</th>\n      <th>Title_Mr</th>\n      <th>Title_Mrs</th>\n      <th>...</th>\n      <th>Age_type_Teenage</th>\n      <th>Age_type_Adult</th>\n      <th>Age_type_Elder</th>\n      <th>Em_type_C</th>\n      <th>Em_type_Q</th>\n      <th>Em_type_S</th>\n      <th>Fare_type_Low_fare</th>\n      <th>Fare_type_median_fare</th>\n      <th>Fare_type_Average_fare</th>\n      <th>Fare_type_high_fare</th>\n    </tr>\n  </thead>\n  <tbody>\n    <tr>\n      <th>count</th>\n      <td>891.000000</td>\n      <td>891.000000</td>\n      <td>891.000000</td>\n      <td>891.000000</td>\n      <td>891.000000</td>\n      <td>891.000000</td>\n      <td>891.000000</td>\n      <td>891.000000</td>\n      <td>891.000000</td>\n      <td>891.000000</td>\n      <td>...</td>\n      <td>891.000000</td>\n      <td>891.000000</td>\n      <td>891.000000</td>\n      <td>891.000000</td>\n      <td>891.000000</td>\n      <td>891.000000</td>\n      <td>891.000000</td>\n      <td>891.000000</td>\n      <td>891.000000</td>\n      <td>891.000000</td>\n    </tr>\n    <tr>\n      <th>mean</th>\n      <td>0.654321</td>\n      <td>0.065376</td>\n      <td>0.063599</td>\n      <td>0.090460</td>\n      <td>0.352413</td>\n      <td>0.647587</td>\n      <td>0.044893</td>\n      <td>0.207632</td>\n      <td>0.580247</td>\n      <td>0.141414</td>\n      <td>...</td>\n      <td>0.123457</td>\n      <td>0.630752</td>\n      <td>0.168350</td>\n      <td>0.188552</td>\n      <td>0.086420</td>\n      <td>0.725028</td>\n      <td>0.233446</td>\n      <td>0.243547</td>\n      <td>0.257015</td>\n      <td>0.206510</td>\n    </tr>\n    <tr>\n      <th>std</th>\n      <td>0.418036</td>\n      <td>0.137843</td>\n      <td>0.134343</td>\n      <td>0.161346</td>\n      <td>0.477990</td>\n      <td>0.477990</td>\n      <td>0.207186</td>\n      <td>0.405840</td>\n      <td>0.493796</td>\n      <td>0.348644</td>\n      <td>...</td>\n      <td>0.329146</td>\n      <td>0.482872</td>\n      <td>0.374387</td>\n      <td>0.391372</td>\n      <td>0.281141</td>\n      <td>0.446751</td>\n      <td>0.423261</td>\n      <td>0.429463</td>\n      <td>0.437233</td>\n      <td>0.405028</td>\n    </tr>\n    <tr>\n      <th>min</th>\n      <td>0.000000</td>\n      <td>0.000000</td>\n      <td>0.000000</td>\n      <td>0.000000</td>\n      <td>0.000000</td>\n      <td>0.000000</td>\n      <td>0.000000</td>\n      <td>0.000000</td>\n      <td>0.000000</td>\n      <td>0.000000</td>\n      <td>...</td>\n      <td>0.000000</td>\n      <td>0.000000</td>\n      <td>0.000000</td>\n      <td>0.000000</td>\n      <td>0.000000</td>\n      <td>0.000000</td>\n      <td>0.000000</td>\n      <td>0.000000</td>\n      <td>0.000000</td>\n      <td>0.000000</td>\n    </tr>\n    <tr>\n      <th>25%</th>\n      <td>0.500000</td>\n      <td>0.000000</td>\n      <td>0.000000</td>\n      <td>0.000000</td>\n      <td>0.000000</td>\n      <td>0.000000</td>\n      <td>0.000000</td>\n      <td>0.000000</td>\n      <td>0.000000</td>\n      <td>0.000000</td>\n      <td>...</td>\n      <td>0.000000</td>\n      <td>0.000000</td>\n      <td>0.000000</td>\n      <td>0.000000</td>\n      <td>0.000000</td>\n      <td>0.000000</td>\n      <td>0.000000</td>\n      <td>0.000000</td>\n      <td>0.000000</td>\n      <td>0.000000</td>\n    </tr>\n    <tr>\n      <th>50%</th>\n      <td>1.000000</td>\n      <td>0.000000</td>\n      <td>0.000000</td>\n      <td>0.000000</td>\n      <td>0.000000</td>\n      <td>1.000000</td>\n      <td>0.000000</td>\n      <td>0.000000</td>\n      <td>1.000000</td>\n      <td>0.000000</td>\n      <td>...</td>\n      <td>0.000000</td>\n      <td>1.000000</td>\n      <td>0.000000</td>\n      <td>0.000000</td>\n      <td>0.000000</td>\n      <td>1.000000</td>\n      <td>0.000000</td>\n      <td>0.000000</td>\n      <td>0.000000</td>\n      <td>0.000000</td>\n    </tr>\n    <tr>\n      <th>75%</th>\n      <td>1.000000</td>\n      <td>0.125000</td>\n      <td>0.000000</td>\n      <td>0.100000</td>\n      <td>1.000000</td>\n      <td>1.000000</td>\n      <td>0.000000</td>\n      <td>0.000000</td>\n      <td>1.000000</td>\n      <td>0.000000</td>\n      <td>...</td>\n      <td>0.000000</td>\n      <td>1.000000</td>\n      <td>0.000000</td>\n      <td>0.000000</td>\n      <td>0.000000</td>\n      <td>1.000000</td>\n      <td>0.000000</td>\n      <td>0.000000</td>\n      <td>1.000000</td>\n      <td>0.000000</td>\n    </tr>\n    <tr>\n      <th>max</th>\n      <td>1.000000</td>\n      <td>1.000000</td>\n      <td>1.000000</td>\n      <td>1.000000</td>\n      <td>1.000000</td>\n      <td>1.000000</td>\n      <td>1.000000</td>\n      <td>1.000000</td>\n      <td>1.000000</td>\n      <td>1.000000</td>\n      <td>...</td>\n      <td>1.000000</td>\n      <td>1.000000</td>\n      <td>1.000000</td>\n      <td>1.000000</td>\n      <td>1.000000</td>\n      <td>1.000000</td>\n      <td>1.000000</td>\n      <td>1.000000</td>\n      <td>1.000000</td>\n      <td>1.000000</td>\n    </tr>\n  </tbody>\n</table>\n<p>8 rows × 22 columns</p>\n</div>"
     },
     "metadata": {},
     "execution_count": 755
    }
   ],
   "source": [
    "X.describe()"
   ]
  },
  {
   "source": [
    "## Build ANN model (77.033%)\n"
   ],
   "cell_type": "markdown",
   "metadata": {}
  },
  {
   "cell_type": "code",
   "execution_count": 756,
   "metadata": {},
   "outputs": [],
   "source": [
    "model = keras.Sequential([\n",
    "    keras.layers.Dense(22, input_dim=22, activation=\"relu\"),\n",
    "    keras.layers.Dense(13, activation=\"relu\"),\n",
    "    keras.layers.Dense(1, activation=\"sigmoid\"),\n",
    "])\n",
    "\n",
    "model.compile(optimizer=\"adam\", loss=\"binary_crossentropy\", metrics=[\"accuracy\"])"
   ]
  },
  {
   "cell_type": "code",
   "execution_count": 757,
   "metadata": {
    "tags": [
     "outputPrepend"
    ]
   },
   "outputs": [
    {
     "output_type": "stream",
     "name": "stdout",
     "text": [
      "5\n",
      "Epoch 303/500\n",
      "28/28 [==============================] - 0s 2ms/step - loss: 0.3006 - accuracy: 0.8765\n",
      "Epoch 304/500\n",
      "28/28 [==============================] - 0s 2ms/step - loss: 0.3001 - accuracy: 0.8777\n",
      "Epoch 305/500\n",
      "28/28 [==============================] - 0s 2ms/step - loss: 0.2991 - accuracy: 0.8743\n",
      "Epoch 306/500\n",
      "28/28 [==============================] - 0s 2ms/step - loss: 0.2964 - accuracy: 0.8777\n",
      "Epoch 307/500\n",
      "28/28 [==============================] - 0s 2ms/step - loss: 0.2970 - accuracy: 0.8810\n",
      "Epoch 308/500\n",
      "28/28 [==============================] - 0s 3ms/step - loss: 0.2969 - accuracy: 0.8754\n",
      "Epoch 309/500\n",
      "28/28 [==============================] - 0s 2ms/step - loss: 0.2984 - accuracy: 0.8788\n",
      "Epoch 310/500\n",
      "28/28 [==============================] - 0s 1ms/step - loss: 0.2989 - accuracy: 0.8777\n",
      "Epoch 311/500\n",
      "28/28 [==============================] - 0s 1ms/step - loss: 0.2970 - accuracy: 0.8788\n",
      "Epoch 312/500\n",
      "28/28 [==============================] - 0s 2ms/step - loss: 0.2991 - accuracy: 0.8732\n",
      "Epoch 313/500\n",
      "28/28 [==============================] - 0s 2ms/step - loss: 0.2987 - accuracy: 0.8810\n",
      "Epoch 314/500\n",
      "28/28 [==============================] - 0s 2ms/step - loss: 0.2997 - accuracy: 0.8687\n",
      "Epoch 315/500\n",
      "28/28 [==============================] - 0s 1ms/step - loss: 0.2981 - accuracy: 0.8822\n",
      "Epoch 316/500\n",
      "28/28 [==============================] - 0s 2ms/step - loss: 0.2968 - accuracy: 0.8799\n",
      "Epoch 317/500\n",
      "28/28 [==============================] - 0s 2ms/step - loss: 0.2961 - accuracy: 0.8799\n",
      "Epoch 318/500\n",
      "28/28 [==============================] - 0s 2ms/step - loss: 0.2971 - accuracy: 0.8754\n",
      "Epoch 319/500\n",
      "28/28 [==============================] - 0s 2ms/step - loss: 0.2978 - accuracy: 0.8799\n",
      "Epoch 320/500\n",
      "28/28 [==============================] - 0s 2ms/step - loss: 0.2955 - accuracy: 0.8765\n",
      "Epoch 321/500\n",
      "28/28 [==============================] - 0s 2ms/step - loss: 0.2966 - accuracy: 0.8810\n",
      "Epoch 322/500\n",
      "28/28 [==============================] - 0s 2ms/step - loss: 0.2956 - accuracy: 0.8822\n",
      "Epoch 323/500\n",
      "28/28 [==============================] - 0s 2ms/step - loss: 0.2958 - accuracy: 0.8732\n",
      "Epoch 324/500\n",
      "28/28 [==============================] - 0s 2ms/step - loss: 0.3002 - accuracy: 0.8777\n",
      "Epoch 325/500\n",
      "28/28 [==============================] - 0s 2ms/step - loss: 0.2959 - accuracy: 0.8788\n",
      "Epoch 326/500\n",
      "28/28 [==============================] - 0s 2ms/step - loss: 0.2940 - accuracy: 0.8799\n",
      "Epoch 327/500\n",
      "28/28 [==============================] - 0s 2ms/step - loss: 0.2953 - accuracy: 0.8810\n",
      "Epoch 328/500\n",
      "28/28 [==============================] - 0s 2ms/step - loss: 0.2957 - accuracy: 0.8799\n",
      "Epoch 329/500\n",
      "28/28 [==============================] - 0s 2ms/step - loss: 0.2964 - accuracy: 0.8788\n",
      "Epoch 330/500\n",
      "28/28 [==============================] - 0s 2ms/step - loss: 0.2978 - accuracy: 0.8777\n",
      "Epoch 331/500\n",
      "28/28 [==============================] - 0s 2ms/step - loss: 0.2950 - accuracy: 0.8799\n",
      "Epoch 332/500\n",
      "28/28 [==============================] - 0s 2ms/step - loss: 0.2948 - accuracy: 0.8810\n",
      "Epoch 333/500\n",
      "28/28 [==============================] - 0s 2ms/step - loss: 0.2947 - accuracy: 0.8721\n",
      "Epoch 334/500\n",
      "28/28 [==============================] - 0s 2ms/step - loss: 0.2962 - accuracy: 0.8822\n",
      "Epoch 335/500\n",
      "28/28 [==============================] - 0s 2ms/step - loss: 0.2973 - accuracy: 0.8765\n",
      "Epoch 336/500\n",
      "28/28 [==============================] - 0s 1ms/step - loss: 0.2996 - accuracy: 0.8743\n",
      "Epoch 337/500\n",
      "28/28 [==============================] - 0s 2ms/step - loss: 0.2959 - accuracy: 0.8822\n",
      "Epoch 338/500\n",
      "28/28 [==============================] - 0s 2ms/step - loss: 0.2961 - accuracy: 0.8721\n",
      "Epoch 339/500\n",
      "28/28 [==============================] - 0s 2ms/step - loss: 0.2958 - accuracy: 0.8810\n",
      "Epoch 340/500\n",
      "28/28 [==============================] - 0s 2ms/step - loss: 0.2944 - accuracy: 0.8810\n",
      "Epoch 341/500\n",
      "28/28 [==============================] - 0s 2ms/step - loss: 0.2947 - accuracy: 0.8765\n",
      "Epoch 342/500\n",
      "28/28 [==============================] - 0s 2ms/step - loss: 0.2921 - accuracy: 0.8810\n",
      "Epoch 343/500\n",
      "28/28 [==============================] - 0s 2ms/step - loss: 0.2963 - accuracy: 0.8799\n",
      "Epoch 344/500\n",
      "28/28 [==============================] - 0s 2ms/step - loss: 0.2946 - accuracy: 0.8799\n",
      "Epoch 345/500\n",
      "28/28 [==============================] - 0s 2ms/step - loss: 0.2918 - accuracy: 0.8833\n",
      "Epoch 346/500\n",
      "28/28 [==============================] - 0s 2ms/step - loss: 0.2954 - accuracy: 0.8810\n",
      "Epoch 347/500\n",
      "28/28 [==============================] - 0s 2ms/step - loss: 0.2961 - accuracy: 0.8799\n",
      "Epoch 348/500\n",
      "28/28 [==============================] - 0s 2ms/step - loss: 0.2928 - accuracy: 0.8822\n",
      "Epoch 349/500\n",
      "28/28 [==============================] - 0s 2ms/step - loss: 0.2938 - accuracy: 0.8777\n",
      "Epoch 350/500\n",
      "28/28 [==============================] - 0s 2ms/step - loss: 0.2944 - accuracy: 0.8810\n",
      "Epoch 351/500\n",
      "28/28 [==============================] - 0s 2ms/step - loss: 0.2951 - accuracy: 0.8743\n",
      "Epoch 352/500\n",
      "28/28 [==============================] - 0s 2ms/step - loss: 0.2928 - accuracy: 0.8844\n",
      "Epoch 353/500\n",
      "28/28 [==============================] - 0s 2ms/step - loss: 0.2933 - accuracy: 0.8844\n",
      "Epoch 354/500\n",
      "28/28 [==============================] - 0s 2ms/step - loss: 0.2916 - accuracy: 0.8777\n",
      "Epoch 355/500\n",
      "28/28 [==============================] - 0s 2ms/step - loss: 0.2923 - accuracy: 0.8833\n",
      "Epoch 356/500\n",
      "28/28 [==============================] - 0s 2ms/step - loss: 0.2934 - accuracy: 0.8788\n",
      "Epoch 357/500\n",
      "28/28 [==============================] - 0s 2ms/step - loss: 0.2935 - accuracy: 0.8866\n",
      "Epoch 358/500\n",
      "28/28 [==============================] - 0s 2ms/step - loss: 0.2937 - accuracy: 0.8765\n",
      "Epoch 359/500\n",
      "28/28 [==============================] - 0s 2ms/step - loss: 0.2927 - accuracy: 0.8833\n",
      "Epoch 360/500\n",
      "28/28 [==============================] - 0s 2ms/step - loss: 0.2934 - accuracy: 0.8777\n",
      "Epoch 361/500\n",
      "28/28 [==============================] - 0s 2ms/step - loss: 0.2974 - accuracy: 0.8822\n",
      "Epoch 362/500\n",
      "28/28 [==============================] - 0s 2ms/step - loss: 0.2909 - accuracy: 0.8866\n",
      "Epoch 363/500\n",
      "28/28 [==============================] - 0s 2ms/step - loss: 0.2913 - accuracy: 0.8810\n",
      "Epoch 364/500\n",
      "28/28 [==============================] - 0s 2ms/step - loss: 0.2926 - accuracy: 0.8833\n",
      "Epoch 365/500\n",
      "28/28 [==============================] - 0s 2ms/step - loss: 0.2925 - accuracy: 0.8822\n",
      "Epoch 366/500\n",
      "28/28 [==============================] - 0s 2ms/step - loss: 0.2925 - accuracy: 0.8844\n",
      "Epoch 367/500\n",
      "28/28 [==============================] - 0s 2ms/step - loss: 0.2944 - accuracy: 0.8810\n",
      "Epoch 368/500\n",
      "28/28 [==============================] - 0s 2ms/step - loss: 0.2929 - accuracy: 0.8810\n",
      "Epoch 369/500\n",
      "28/28 [==============================] - 0s 2ms/step - loss: 0.2927 - accuracy: 0.8833\n",
      "Epoch 370/500\n",
      "28/28 [==============================] - 0s 2ms/step - loss: 0.2918 - accuracy: 0.8822\n",
      "Epoch 371/500\n",
      "28/28 [==============================] - 0s 2ms/step - loss: 0.2940 - accuracy: 0.8822\n",
      "Epoch 372/500\n",
      "28/28 [==============================] - 0s 2ms/step - loss: 0.2918 - accuracy: 0.8878\n",
      "Epoch 373/500\n",
      "28/28 [==============================] - 0s 2ms/step - loss: 0.2918 - accuracy: 0.8743\n",
      "Epoch 374/500\n",
      "28/28 [==============================] - 0s 2ms/step - loss: 0.2918 - accuracy: 0.8833\n",
      "Epoch 375/500\n",
      "28/28 [==============================] - 0s 2ms/step - loss: 0.2895 - accuracy: 0.8777\n",
      "Epoch 376/500\n",
      "28/28 [==============================] - 0s 1ms/step - loss: 0.2910 - accuracy: 0.8833\n",
      "Epoch 377/500\n",
      "28/28 [==============================] - 0s 2ms/step - loss: 0.2920 - accuracy: 0.8822\n",
      "Epoch 378/500\n",
      "28/28 [==============================] - 0s 2ms/step - loss: 0.2910 - accuracy: 0.8844\n",
      "Epoch 379/500\n",
      "28/28 [==============================] - 0s 2ms/step - loss: 0.2909 - accuracy: 0.8855\n",
      "Epoch 380/500\n",
      "28/28 [==============================] - 0s 2ms/step - loss: 0.2938 - accuracy: 0.8822\n",
      "Epoch 381/500\n",
      "28/28 [==============================] - 0s 2ms/step - loss: 0.2950 - accuracy: 0.8822\n",
      "Epoch 382/500\n",
      "28/28 [==============================] - 0s 2ms/step - loss: 0.2962 - accuracy: 0.8810\n",
      "Epoch 383/500\n",
      "28/28 [==============================] - 0s 2ms/step - loss: 0.2895 - accuracy: 0.8833\n",
      "Epoch 384/500\n",
      "28/28 [==============================] - 0s 2ms/step - loss: 0.2910 - accuracy: 0.8833\n",
      "Epoch 385/500\n",
      "28/28 [==============================] - 0s 2ms/step - loss: 0.2931 - accuracy: 0.8799\n",
      "Epoch 386/500\n",
      "28/28 [==============================] - 0s 2ms/step - loss: 0.2919 - accuracy: 0.8777\n",
      "Epoch 387/500\n",
      "28/28 [==============================] - 0s 2ms/step - loss: 0.2946 - accuracy: 0.8799\n",
      "Epoch 388/500\n",
      "28/28 [==============================] - 0s 2ms/step - loss: 0.2900 - accuracy: 0.8844\n",
      "Epoch 389/500\n",
      "28/28 [==============================] - 0s 2ms/step - loss: 0.2922 - accuracy: 0.8822\n",
      "Epoch 390/500\n",
      "28/28 [==============================] - 0s 2ms/step - loss: 0.2920 - accuracy: 0.8765\n",
      "Epoch 391/500\n",
      "28/28 [==============================] - 0s 2ms/step - loss: 0.2906 - accuracy: 0.8822\n",
      "Epoch 392/500\n",
      "28/28 [==============================] - 0s 2ms/step - loss: 0.2919 - accuracy: 0.8788\n",
      "Epoch 393/500\n",
      "28/28 [==============================] - 0s 2ms/step - loss: 0.2901 - accuracy: 0.8810\n",
      "Epoch 394/500\n",
      "28/28 [==============================] - 0s 2ms/step - loss: 0.2895 - accuracy: 0.8822\n",
      "Epoch 395/500\n",
      "28/28 [==============================] - 0s 2ms/step - loss: 0.2906 - accuracy: 0.8799\n",
      "Epoch 396/500\n",
      "28/28 [==============================] - 0s 2ms/step - loss: 0.2897 - accuracy: 0.8777\n",
      "Epoch 397/500\n",
      "28/28 [==============================] - 0s 2ms/step - loss: 0.2896 - accuracy: 0.8833\n",
      "Epoch 398/500\n",
      "28/28 [==============================] - 0s 2ms/step - loss: 0.2919 - accuracy: 0.8833\n",
      "Epoch 399/500\n",
      "28/28 [==============================] - 0s 2ms/step - loss: 0.2948 - accuracy: 0.8799\n",
      "Epoch 400/500\n",
      "28/28 [==============================] - 0s 2ms/step - loss: 0.2878 - accuracy: 0.8855\n",
      "Epoch 401/500\n",
      "28/28 [==============================] - 0s 2ms/step - loss: 0.2887 - accuracy: 0.8788\n",
      "Epoch 402/500\n",
      "28/28 [==============================] - 0s 2ms/step - loss: 0.2921 - accuracy: 0.8844\n",
      "Epoch 403/500\n",
      "28/28 [==============================] - 0s 2ms/step - loss: 0.2897 - accuracy: 0.8765\n",
      "Epoch 404/500\n",
      "28/28 [==============================] - 0s 2ms/step - loss: 0.2908 - accuracy: 0.8810\n",
      "Epoch 405/500\n",
      "28/28 [==============================] - 0s 2ms/step - loss: 0.2939 - accuracy: 0.8822\n",
      "Epoch 406/500\n",
      "28/28 [==============================] - 0s 2ms/step - loss: 0.2928 - accuracy: 0.8788\n",
      "Epoch 407/500\n",
      "28/28 [==============================] - 0s 2ms/step - loss: 0.2906 - accuracy: 0.8833\n",
      "Epoch 408/500\n",
      "28/28 [==============================] - 0s 2ms/step - loss: 0.2888 - accuracy: 0.8810\n",
      "Epoch 409/500\n",
      "28/28 [==============================] - 0s 2ms/step - loss: 0.2877 - accuracy: 0.8822\n",
      "Epoch 410/500\n",
      "28/28 [==============================] - 0s 2ms/step - loss: 0.2884 - accuracy: 0.8799\n",
      "Epoch 411/500\n",
      "28/28 [==============================] - 0s 2ms/step - loss: 0.2906 - accuracy: 0.8788\n",
      "Epoch 412/500\n",
      "28/28 [==============================] - 0s 2ms/step - loss: 0.2937 - accuracy: 0.8788\n",
      "Epoch 413/500\n",
      "28/28 [==============================] - 0s 2ms/step - loss: 0.2886 - accuracy: 0.8855\n",
      "Epoch 414/500\n",
      "28/28 [==============================] - 0s 2ms/step - loss: 0.2898 - accuracy: 0.8799\n",
      "Epoch 415/500\n",
      "28/28 [==============================] - 0s 2ms/step - loss: 0.2907 - accuracy: 0.8754\n",
      "Epoch 416/500\n",
      "28/28 [==============================] - 0s 2ms/step - loss: 0.2895 - accuracy: 0.8822\n",
      "Epoch 417/500\n",
      "28/28 [==============================] - 0s 2ms/step - loss: 0.2887 - accuracy: 0.8822\n",
      "Epoch 418/500\n",
      "28/28 [==============================] - 0s 2ms/step - loss: 0.2862 - accuracy: 0.8855\n",
      "Epoch 419/500\n",
      "28/28 [==============================] - 0s 2ms/step - loss: 0.2891 - accuracy: 0.8788\n",
      "Epoch 420/500\n",
      "28/28 [==============================] - 0s 2ms/step - loss: 0.2907 - accuracy: 0.8833\n",
      "Epoch 421/500\n",
      "28/28 [==============================] - 0s 2ms/step - loss: 0.2955 - accuracy: 0.8777\n",
      "Epoch 422/500\n",
      "28/28 [==============================] - 0s 2ms/step - loss: 0.2914 - accuracy: 0.8833\n",
      "Epoch 423/500\n",
      "28/28 [==============================] - 0s 2ms/step - loss: 0.2895 - accuracy: 0.8754\n",
      "Epoch 424/500\n",
      "28/28 [==============================] - 0s 2ms/step - loss: 0.2947 - accuracy: 0.8777\n",
      "Epoch 425/500\n",
      "28/28 [==============================] - 0s 2ms/step - loss: 0.2867 - accuracy: 0.8866\n",
      "Epoch 426/500\n",
      "28/28 [==============================] - 0s 2ms/step - loss: 0.2879 - accuracy: 0.8822\n",
      "Epoch 427/500\n",
      "28/28 [==============================] - 0s 2ms/step - loss: 0.2878 - accuracy: 0.8810\n",
      "Epoch 428/500\n",
      "28/28 [==============================] - 0s 2ms/step - loss: 0.2882 - accuracy: 0.8799\n",
      "Epoch 429/500\n",
      "28/28 [==============================] - 0s 2ms/step - loss: 0.2881 - accuracy: 0.8866\n",
      "Epoch 430/500\n",
      "28/28 [==============================] - 0s 2ms/step - loss: 0.2886 - accuracy: 0.8799\n",
      "Epoch 431/500\n",
      "28/28 [==============================] - 0s 2ms/step - loss: 0.2854 - accuracy: 0.8900\n",
      "Epoch 432/500\n",
      "28/28 [==============================] - 0s 2ms/step - loss: 0.2905 - accuracy: 0.8765\n",
      "Epoch 433/500\n",
      "28/28 [==============================] - 0s 2ms/step - loss: 0.2893 - accuracy: 0.8810\n",
      "Epoch 434/500\n",
      "28/28 [==============================] - 0s 2ms/step - loss: 0.2897 - accuracy: 0.8844\n",
      "Epoch 435/500\n",
      "28/28 [==============================] - 0s 2ms/step - loss: 0.2871 - accuracy: 0.8822\n",
      "Epoch 436/500\n",
      "28/28 [==============================] - 0s 2ms/step - loss: 0.2905 - accuracy: 0.8777\n",
      "Epoch 437/500\n",
      "28/28 [==============================] - 0s 2ms/step - loss: 0.2941 - accuracy: 0.8777\n",
      "Epoch 438/500\n",
      "28/28 [==============================] - 0s 2ms/step - loss: 0.2868 - accuracy: 0.8833\n",
      "Epoch 439/500\n",
      "28/28 [==============================] - 0s 2ms/step - loss: 0.2866 - accuracy: 0.8866\n",
      "Epoch 440/500\n",
      "28/28 [==============================] - 0s 2ms/step - loss: 0.2888 - accuracy: 0.8822\n",
      "Epoch 441/500\n",
      "28/28 [==============================] - 0s 2ms/step - loss: 0.2868 - accuracy: 0.8810\n",
      "Epoch 442/500\n",
      "28/28 [==============================] - 0s 2ms/step - loss: 0.2910 - accuracy: 0.8844\n",
      "Epoch 443/500\n",
      "28/28 [==============================] - 0s 2ms/step - loss: 0.2859 - accuracy: 0.8833\n",
      "Epoch 444/500\n",
      "28/28 [==============================] - 0s 2ms/step - loss: 0.2909 - accuracy: 0.8799\n",
      "Epoch 445/500\n",
      "28/28 [==============================] - 0s 2ms/step - loss: 0.2900 - accuracy: 0.8799\n",
      "Epoch 446/500\n",
      "28/28 [==============================] - 0s 2ms/step - loss: 0.2839 - accuracy: 0.8855\n",
      "Epoch 447/500\n",
      "28/28 [==============================] - 0s 2ms/step - loss: 0.2951 - accuracy: 0.8788\n",
      "Epoch 448/500\n",
      "28/28 [==============================] - 0s 2ms/step - loss: 0.2892 - accuracy: 0.8844\n",
      "Epoch 449/500\n",
      "28/28 [==============================] - 0s 2ms/step - loss: 0.2853 - accuracy: 0.8855\n",
      "Epoch 450/500\n",
      "28/28 [==============================] - 0s 2ms/step - loss: 0.2851 - accuracy: 0.8878\n",
      "Epoch 451/500\n",
      "28/28 [==============================] - 0s 2ms/step - loss: 0.2876 - accuracy: 0.8855\n",
      "Epoch 452/500\n",
      "28/28 [==============================] - 0s 2ms/step - loss: 0.2878 - accuracy: 0.8810\n",
      "Epoch 453/500\n",
      "28/28 [==============================] - 0s 2ms/step - loss: 0.2875 - accuracy: 0.8810\n",
      "Epoch 454/500\n",
      "28/28 [==============================] - 0s 2ms/step - loss: 0.2856 - accuracy: 0.8866\n",
      "Epoch 455/500\n",
      "28/28 [==============================] - 0s 2ms/step - loss: 0.2873 - accuracy: 0.8810\n",
      "Epoch 456/500\n",
      "28/28 [==============================] - 0s 2ms/step - loss: 0.2852 - accuracy: 0.8866\n",
      "Epoch 457/500\n",
      "28/28 [==============================] - 0s 2ms/step - loss: 0.2852 - accuracy: 0.8799\n",
      "Epoch 458/500\n",
      "28/28 [==============================] - 0s 2ms/step - loss: 0.2874 - accuracy: 0.8822\n",
      "Epoch 459/500\n",
      "28/28 [==============================] - 0s 2ms/step - loss: 0.2856 - accuracy: 0.8866\n",
      "Epoch 460/500\n",
      "28/28 [==============================] - 0s 2ms/step - loss: 0.2886 - accuracy: 0.8743\n",
      "Epoch 461/500\n",
      "28/28 [==============================] - 0s 2ms/step - loss: 0.2837 - accuracy: 0.8855\n",
      "Epoch 462/500\n",
      "28/28 [==============================] - 0s 2ms/step - loss: 0.2864 - accuracy: 0.8799\n",
      "Epoch 463/500\n",
      "28/28 [==============================] - 0s 2ms/step - loss: 0.2842 - accuracy: 0.8833\n",
      "Epoch 464/500\n",
      "28/28 [==============================] - 0s 2ms/step - loss: 0.2879 - accuracy: 0.8855\n",
      "Epoch 465/500\n",
      "28/28 [==============================] - 0s 2ms/step - loss: 0.2863 - accuracy: 0.8855\n",
      "Epoch 466/500\n",
      "28/28 [==============================] - 0s 2ms/step - loss: 0.2852 - accuracy: 0.8855\n",
      "Epoch 467/500\n",
      "28/28 [==============================] - 0s 2ms/step - loss: 0.2863 - accuracy: 0.8810\n",
      "Epoch 468/500\n",
      "28/28 [==============================] - 0s 2ms/step - loss: 0.2849 - accuracy: 0.8833\n",
      "Epoch 469/500\n",
      "28/28 [==============================] - 0s 2ms/step - loss: 0.2869 - accuracy: 0.8810\n",
      "Epoch 470/500\n",
      "28/28 [==============================] - 0s 2ms/step - loss: 0.2853 - accuracy: 0.8866\n",
      "Epoch 471/500\n",
      "28/28 [==============================] - 0s 2ms/step - loss: 0.2840 - accuracy: 0.8878\n",
      "Epoch 472/500\n",
      "28/28 [==============================] - 0s 2ms/step - loss: 0.2854 - accuracy: 0.8833\n",
      "Epoch 473/500\n",
      "28/28 [==============================] - 0s 2ms/step - loss: 0.2914 - accuracy: 0.8833\n",
      "Epoch 474/500\n",
      "28/28 [==============================] - 0s 2ms/step - loss: 0.2869 - accuracy: 0.8788\n",
      "Epoch 475/500\n",
      "28/28 [==============================] - 0s 2ms/step - loss: 0.2837 - accuracy: 0.8844\n",
      "Epoch 476/500\n",
      "28/28 [==============================] - 0s 2ms/step - loss: 0.2842 - accuracy: 0.8844\n",
      "Epoch 477/500\n",
      "28/28 [==============================] - 0s 2ms/step - loss: 0.2853 - accuracy: 0.8866\n",
      "Epoch 478/500\n",
      "28/28 [==============================] - 0s 2ms/step - loss: 0.2879 - accuracy: 0.8822\n",
      "Epoch 479/500\n",
      "28/28 [==============================] - 0s 2ms/step - loss: 0.2921 - accuracy: 0.8844\n",
      "Epoch 480/500\n",
      "28/28 [==============================] - 0s 2ms/step - loss: 0.2846 - accuracy: 0.8900\n",
      "Epoch 481/500\n",
      "28/28 [==============================] - 0s 2ms/step - loss: 0.2844 - accuracy: 0.8855\n",
      "Epoch 482/500\n",
      "28/28 [==============================] - 0s 2ms/step - loss: 0.2823 - accuracy: 0.8855\n",
      "Epoch 483/500\n",
      "28/28 [==============================] - 0s 2ms/step - loss: 0.2856 - accuracy: 0.8822\n",
      "Epoch 484/500\n",
      "28/28 [==============================] - 0s 2ms/step - loss: 0.2845 - accuracy: 0.8844\n",
      "Epoch 485/500\n",
      "28/28 [==============================] - 0s 2ms/step - loss: 0.2826 - accuracy: 0.8844\n",
      "Epoch 486/500\n",
      "28/28 [==============================] - 0s 2ms/step - loss: 0.2832 - accuracy: 0.8833\n",
      "Epoch 487/500\n",
      "28/28 [==============================] - 0s 2ms/step - loss: 0.2859 - accuracy: 0.8855\n",
      "Epoch 488/500\n",
      "28/28 [==============================] - 0s 2ms/step - loss: 0.2875 - accuracy: 0.8833\n",
      "Epoch 489/500\n",
      "28/28 [==============================] - 0s 2ms/step - loss: 0.2833 - accuracy: 0.8855\n",
      "Epoch 490/500\n",
      "28/28 [==============================] - 0s 2ms/step - loss: 0.2833 - accuracy: 0.8833\n",
      "Epoch 491/500\n",
      "28/28 [==============================] - 0s 2ms/step - loss: 0.2847 - accuracy: 0.8788\n",
      "Epoch 492/500\n",
      "28/28 [==============================] - 0s 2ms/step - loss: 0.2843 - accuracy: 0.8810\n",
      "Epoch 493/500\n",
      "28/28 [==============================] - 0s 2ms/step - loss: 0.2815 - accuracy: 0.8866\n",
      "Epoch 494/500\n",
      "28/28 [==============================] - 0s 2ms/step - loss: 0.2842 - accuracy: 0.8777\n",
      "Epoch 495/500\n",
      "28/28 [==============================] - 0s 2ms/step - loss: 0.2848 - accuracy: 0.8788\n",
      "Epoch 496/500\n",
      "28/28 [==============================] - 0s 2ms/step - loss: 0.2881 - accuracy: 0.8810\n",
      "Epoch 497/500\n",
      "28/28 [==============================] - 0s 2ms/step - loss: 0.2827 - accuracy: 0.8833\n",
      "Epoch 498/500\n",
      "28/28 [==============================] - 0s 2ms/step - loss: 0.2817 - accuracy: 0.8844\n",
      "Epoch 499/500\n",
      "28/28 [==============================] - 0s 2ms/step - loss: 0.2834 - accuracy: 0.8855\n",
      "Epoch 500/500\n",
      "28/28 [==============================] - 0s 2ms/step - loss: 0.2821 - accuracy: 0.8866\n"
     ]
    },
    {
     "output_type": "execute_result",
     "data": {
      "text/plain": [
       "<tensorflow.python.keras.callbacks.History at 0x27112f0ec40>"
      ]
     },
     "metadata": {},
     "execution_count": 757
    }
   ],
   "source": [
    "model.fit(X, y, epochs=500)"
   ]
  },
  {
   "cell_type": "code",
   "execution_count": 758,
   "metadata": {},
   "outputs": [
    {
     "output_type": "execute_result",
     "data": {
      "text/plain": [
       "   PassengerId  Survived\n",
       "0          892         0\n",
       "1          893         0\n",
       "2          894         0\n",
       "3          895         0\n",
       "4          896         0"
      ],
      "text/html": "<div>\n<style scoped>\n    .dataframe tbody tr th:only-of-type {\n        vertical-align: middle;\n    }\n\n    .dataframe tbody tr th {\n        vertical-align: top;\n    }\n\n    .dataframe thead th {\n        text-align: right;\n    }\n</style>\n<table border=\"1\" class=\"dataframe\">\n  <thead>\n    <tr style=\"text-align: right;\">\n      <th></th>\n      <th>PassengerId</th>\n      <th>Survived</th>\n    </tr>\n  </thead>\n  <tbody>\n    <tr>\n      <th>0</th>\n      <td>892</td>\n      <td>0</td>\n    </tr>\n    <tr>\n      <th>1</th>\n      <td>893</td>\n      <td>0</td>\n    </tr>\n    <tr>\n      <th>2</th>\n      <td>894</td>\n      <td>0</td>\n    </tr>\n    <tr>\n      <th>3</th>\n      <td>895</td>\n      <td>0</td>\n    </tr>\n    <tr>\n      <th>4</th>\n      <td>896</td>\n      <td>0</td>\n    </tr>\n  </tbody>\n</table>\n</div>"
     },
     "metadata": {},
     "execution_count": 758
    }
   ],
   "source": [
    "y_pred = model.predict(X_test)\n",
    "\n",
    "y_pred = np.round(y_pred)\n",
    "y_pred = np.concatenate((np.reshape(range(892, 1310), (-1, 1)), y_pred), axis=1).astype(\"int\")\n",
    "\n",
    "df_result = pd.DataFrame(data=y_pred, columns=[\"PassengerId\", \"Survived\"])\n",
    "df_result.to_csv(\"result.csv\", index=False)\n",
    "\n",
    "df_result.head()"
   ]
  },
  {
   "cell_type": "code",
   "execution_count": 584,
   "metadata": {},
   "outputs": [
    {
     "output_type": "execute_result",
     "data": {
      "text/plain": [
       "   PassengerId  Survived\n",
       "0          892         0\n",
       "1          893         0\n",
       "2          894         0\n",
       "3          895         0\n",
       "4          896         1"
      ],
      "text/html": "<div>\n<style scoped>\n    .dataframe tbody tr th:only-of-type {\n        vertical-align: middle;\n    }\n\n    .dataframe tbody tr th {\n        vertical-align: top;\n    }\n\n    .dataframe thead th {\n        text-align: right;\n    }\n</style>\n<table border=\"1\" class=\"dataframe\">\n  <thead>\n    <tr style=\"text-align: right;\">\n      <th></th>\n      <th>PassengerId</th>\n      <th>Survived</th>\n    </tr>\n  </thead>\n  <tbody>\n    <tr>\n      <th>0</th>\n      <td>892</td>\n      <td>0</td>\n    </tr>\n    <tr>\n      <th>1</th>\n      <td>893</td>\n      <td>0</td>\n    </tr>\n    <tr>\n      <th>2</th>\n      <td>894</td>\n      <td>0</td>\n    </tr>\n    <tr>\n      <th>3</th>\n      <td>895</td>\n      <td>0</td>\n    </tr>\n    <tr>\n      <th>4</th>\n      <td>896</td>\n      <td>1</td>\n    </tr>\n  </tbody>\n</table>\n</div>"
     },
     "metadata": {},
     "execution_count": 584
    }
   ],
   "source": []
  },
  {
   "source": [
    "## XGBoost (77.272%)"
   ],
   "cell_type": "markdown",
   "metadata": {}
  },
  {
   "cell_type": "code",
   "execution_count": 759,
   "metadata": {},
   "outputs": [
    {
     "output_type": "stream",
     "name": "stdout",
     "text": [
      "[22:39:58] WARNING: C:/Users/Administrator/workspace/xgboost-win64_release_1.4.0/src/learner.cc:1095: Starting in XGBoost 1.3.0, the default evaluation metric used with the objective 'binary:logistic' was changed from 'error' to 'logloss'. Explicitly set eval_metric if you'd like to restore the old behavior.\n",
      "C:\\ProgramData\\Miniconda3\\lib\\site-packages\\xgboost\\sklearn.py:1146: UserWarning: The use of label encoder in XGBClassifier is deprecated and will be removed in a future release. To remove this warning, do the following: 1) Pass option use_label_encoder=False when constructing XGBClassifier object; and 2) Encode your labels (y) as integers starting with 0, i.e. 0, 1, 2, ..., [num_class - 1].\n",
      "  warnings.warn(label_encoder_deprecation_msg, UserWarning)\n"
     ]
    }
   ],
   "source": [
    "from xgboost import XGBClassifier\n",
    "classifier = XGBClassifier()\n",
    "classifier.fit(X, y)\n",
    "\n",
    "y_pred = classifier.predict(X_test)\n",
    "y_pred = np.concatenate((np.reshape(range(892, 1310), (-1, 1)), np.reshape(y_pred, (-1, 1))), axis=1).astype(\"int\")\n",
    "\n",
    "df_result = pd.DataFrame(data=y_pred, columns=[\"PassengerId\", \"Survived\"])\n",
    "df_result.to_csv(\"result_xgboost.csv\", index=False)"
   ]
  },
  {
   "source": [
    "## Catboost (74%)"
   ],
   "cell_type": "markdown",
   "metadata": {}
  },
  {
   "cell_type": "code",
   "execution_count": 760,
   "metadata": {
    "tags": []
   },
   "outputs": [],
   "source": [
    "from catboost import CatBoostClassifier, Pool\n",
    "model = CatBoostClassifier(iterations=20,\n",
    "                           depth=4,\n",
    "                           learning_rate=1,\n",
    "                           loss_function='Logloss',\n",
    "                           verbose=False)\n",
    "# train the model\n",
    "model.fit(X, y)\n",
    "# make the prediction using the resulting model\n",
    "y_pred = model.predict(X_test)\n",
    "y_pred = np.concatenate((np.reshape(range(892, 1310), (-1, 1)), np.reshape(y_pred, (-1, 1))), axis=1).astype(\"int\")\n",
    "\n",
    "df_result = pd.DataFrame(data=y_pred, columns=[\"PassengerId\", \"Survived\"])\n",
    "df_result.to_csv(\"result_catboost.csv\", index=False)"
   ]
  },
  {
   "source": [
    "## Random Forests (75%)"
   ],
   "cell_type": "markdown",
   "metadata": {}
  },
  {
   "cell_type": "code",
   "execution_count": 761,
   "metadata": {},
   "outputs": [
    {
     "output_type": "stream",
     "name": "stdout",
     "text": [
      "Important features\n____________________________________________________________\n89.11\n"
     ]
    },
    {
     "output_type": "display_data",
     "data": {
      "text/plain": "<Figure size 432x288 with 1 Axes>",
      "image/svg+xml": "<?xml version=\"1.0\" encoding=\"utf-8\" standalone=\"no\"?>\r\n<!DOCTYPE svg PUBLIC \"-//W3C//DTD SVG 1.1//EN\"\r\n  \"http://www.w3.org/Graphics/SVG/1.1/DTD/svg11.dtd\">\r\n<svg height=\"248.518125pt\" version=\"1.1\" viewBox=\"0 0 475.3 248.518125\" width=\"475.3pt\" xmlns=\"http://www.w3.org/2000/svg\" xmlns:xlink=\"http://www.w3.org/1999/xlink\">\r\n <metadata>\r\n  <rdf:RDF xmlns:cc=\"http://creativecommons.org/ns#\" xmlns:dc=\"http://purl.org/dc/elements/1.1/\" xmlns:rdf=\"http://www.w3.org/1999/02/22-rdf-syntax-ns#\">\r\n   <cc:Work>\r\n    <dc:type rdf:resource=\"http://purl.org/dc/dcmitype/StillImage\"/>\r\n    <dc:date>2021-06-27T22:39:59.539366</dc:date>\r\n    <dc:format>image/svg+xml</dc:format>\r\n    <dc:creator>\r\n     <cc:Agent>\r\n      <dc:title>Matplotlib v3.4.2, https://matplotlib.org/</dc:title>\r\n     </cc:Agent>\r\n    </dc:creator>\r\n   </cc:Work>\r\n  </rdf:RDF>\r\n </metadata>\r\n <defs>\r\n  <style type=\"text/css\">*{stroke-linecap:butt;stroke-linejoin:round;}</style>\r\n </defs>\r\n <g id=\"figure_1\">\r\n  <g id=\"patch_1\">\r\n   <path d=\"M 0 248.518125 \r\nL 475.3 248.518125 \r\nL 475.3 0 \r\nL 0 0 \r\nz\r\n\" style=\"fill:none;\"/>\r\n  </g>\r\n  <g id=\"axes_1\">\r\n   <g id=\"patch_2\">\r\n    <path d=\"M 133.3 224.64 \r\nL 468.1 224.64 \r\nL 468.1 7.2 \r\nL 133.3 7.2 \r\nz\r\n\" style=\"fill:#ffffff;\"/>\r\n   </g>\r\n   <g id=\"patch_3\">\r\n    <path clip-path=\"url(#p0fe447487e)\" d=\"M 133.3 222.202332 \r\nL 153.231358 222.202332 \r\nL 153.231358 214.401794 \r\nL 133.3 214.401794 \r\nz\r\n\" style=\"fill:#1f77b4;\"/>\r\n   </g>\r\n   <g id=\"patch_4\">\r\n    <path clip-path=\"url(#p0fe447487e)\" d=\"M 133.3 212.451659 \r\nL 164.285225 212.451659 \r\nL 164.285225 204.651121 \r\nL 133.3 204.651121 \r\nz\r\n\" style=\"fill:#1f77b4;\"/>\r\n   </g>\r\n   <g id=\"patch_5\">\r\n    <path clip-path=\"url(#p0fe447487e)\" d=\"M 133.3 202.700987 \r\nL 166.301797 202.700987 \r\nL 166.301797 194.900448 \r\nL 133.3 194.900448 \r\nz\r\n\" style=\"fill:#1f77b4;\"/>\r\n   </g>\r\n   <g id=\"patch_6\">\r\n    <path clip-path=\"url(#p0fe447487e)\" d=\"M 133.3 192.950314 \r\nL 166.790267 192.950314 \r\nL 166.790267 185.149776 \r\nL 133.3 185.149776 \r\nz\r\n\" style=\"fill:#1f77b4;\"/>\r\n   </g>\r\n   <g id=\"patch_7\">\r\n    <path clip-path=\"url(#p0fe447487e)\" d=\"M 133.3 183.199641 \r\nL 176.340545 183.199641 \r\nL 176.340545 175.399103 \r\nL 133.3 175.399103 \r\nz\r\n\" style=\"fill:#1f77b4;\"/>\r\n   </g>\r\n   <g id=\"patch_8\">\r\n    <path clip-path=\"url(#p0fe447487e)\" d=\"M 133.3 173.448969 \r\nL 177.233077 173.448969 \r\nL 177.233077 165.64843 \r\nL 133.3 165.64843 \r\nz\r\n\" style=\"fill:#1f77b4;\"/>\r\n   </g>\r\n   <g id=\"patch_9\">\r\n    <path clip-path=\"url(#p0fe447487e)\" d=\"M 133.3 163.698296 \r\nL 180.296921 163.698296 \r\nL 180.296921 155.897758 \r\nL 133.3 155.897758 \r\nz\r\n\" style=\"fill:#1f77b4;\"/>\r\n   </g>\r\n   <g id=\"patch_10\">\r\n    <path clip-path=\"url(#p0fe447487e)\" d=\"M 133.3 153.947623 \r\nL 181.571687 153.947623 \r\nL 181.571687 146.147085 \r\nL 133.3 146.147085 \r\nz\r\n\" style=\"fill:#1f77b4;\"/>\r\n   </g>\r\n   <g id=\"patch_11\">\r\n    <path clip-path=\"url(#p0fe447487e)\" d=\"M 133.3 144.196951 \r\nL 184.921662 144.196951 \r\nL 184.921662 136.396413 \r\nL 133.3 136.396413 \r\nz\r\n\" style=\"fill:#1f77b4;\"/>\r\n   </g>\r\n   <g id=\"patch_12\">\r\n    <path clip-path=\"url(#p0fe447487e)\" d=\"M 133.3 134.446278 \r\nL 188.775293 134.446278 \r\nL 188.775293 126.64574 \r\nL 133.3 126.64574 \r\nz\r\n\" style=\"fill:#1f77b4;\"/>\r\n   </g>\r\n   <g id=\"patch_13\">\r\n    <path clip-path=\"url(#p0fe447487e)\" d=\"M 133.3 124.695605 \r\nL 190.35114 124.695605 \r\nL 190.35114 116.895067 \r\nL 133.3 116.895067 \r\nz\r\n\" style=\"fill:#1f77b4;\"/>\r\n   </g>\r\n   <g id=\"patch_14\">\r\n    <path clip-path=\"url(#p0fe447487e)\" d=\"M 133.3 114.944933 \r\nL 201.359143 114.944933 \r\nL 201.359143 107.144395 \r\nL 133.3 107.144395 \r\nz\r\n\" style=\"fill:#1f77b4;\"/>\r\n   </g>\r\n   <g id=\"patch_15\">\r\n    <path clip-path=\"url(#p0fe447487e)\" d=\"M 133.3 105.19426 \r\nL 209.041775 105.19426 \r\nL 209.041775 97.393722 \r\nL 133.3 97.393722 \r\nz\r\n\" style=\"fill:#1f77b4;\"/>\r\n   </g>\r\n   <g id=\"patch_16\">\r\n    <path clip-path=\"url(#p0fe447487e)\" d=\"M 133.3 95.443587 \r\nL 221.11372 95.443587 \r\nL 221.11372 87.643049 \r\nL 133.3 87.643049 \r\nz\r\n\" style=\"fill:#1f77b4;\"/>\r\n   </g>\r\n   <g id=\"patch_17\">\r\n    <path clip-path=\"url(#p0fe447487e)\" d=\"M 133.3 85.692915 \r\nL 222.6563 85.692915 \r\nL 222.6563 77.892377 \r\nL 133.3 77.892377 \r\nz\r\n\" style=\"fill:#1f77b4;\"/>\r\n   </g>\r\n   <g id=\"patch_18\">\r\n    <path clip-path=\"url(#p0fe447487e)\" d=\"M 133.3 75.942242 \r\nL 231.532166 75.942242 \r\nL 231.532166 68.141704 \r\nL 133.3 68.141704 \r\nz\r\n\" style=\"fill:#1f77b4;\"/>\r\n   </g>\r\n   <g id=\"patch_19\">\r\n    <path clip-path=\"url(#p0fe447487e)\" d=\"M 133.3 66.19157 \r\nL 276.274062 66.19157 \r\nL 276.274062 58.391031 \r\nL 133.3 58.391031 \r\nz\r\n\" style=\"fill:#1f77b4;\"/>\r\n   </g>\r\n   <g id=\"patch_20\">\r\n    <path clip-path=\"url(#p0fe447487e)\" d=\"M 133.3 56.440897 \r\nL 344.397883 56.440897 \r\nL 344.397883 48.640359 \r\nL 133.3 48.640359 \r\nz\r\n\" style=\"fill:#1f77b4;\"/>\r\n   </g>\r\n   <g id=\"patch_21\">\r\n    <path clip-path=\"url(#p0fe447487e)\" d=\"M 133.3 46.690224 \r\nL 395.259037 46.690224 \r\nL 395.259037 38.889686 \r\nL 133.3 38.889686 \r\nz\r\n\" style=\"fill:#1f77b4;\"/>\r\n   </g>\r\n   <g id=\"patch_22\">\r\n    <path clip-path=\"url(#p0fe447487e)\" d=\"M 133.3 36.939552 \r\nL 421.027378 36.939552 \r\nL 421.027378 29.139013 \r\nL 133.3 29.139013 \r\nz\r\n\" style=\"fill:#1f77b4;\"/>\r\n   </g>\r\n   <g id=\"patch_23\">\r\n    <path clip-path=\"url(#p0fe447487e)\" d=\"M 133.3 27.188879 \r\nL 443.039908 27.188879 \r\nL 443.039908 19.388341 \r\nL 133.3 19.388341 \r\nz\r\n\" style=\"fill:#1f77b4;\"/>\r\n   </g>\r\n   <g id=\"patch_24\">\r\n    <path clip-path=\"url(#p0fe447487e)\" d=\"M 133.3 17.438206 \r\nL 452.157143 17.438206 \r\nL 452.157143 9.637668 \r\nL 133.3 9.637668 \r\nz\r\n\" style=\"fill:#1f77b4;\"/>\r\n   </g>\r\n   <g id=\"matplotlib.axis_1\">\r\n    <g id=\"xtick_1\">\r\n     <g id=\"line2d_1\">\r\n      <defs>\r\n       <path d=\"M 0 0 \r\nL 0 3.5 \r\n\" id=\"m7771e058f2\" style=\"stroke:#000000;stroke-width:0.8;\"/>\r\n      </defs>\r\n      <g>\r\n       <use style=\"stroke:#000000;stroke-width:0.8;\" x=\"133.3\" xlink:href=\"#m7771e058f2\" y=\"224.64\"/>\r\n      </g>\r\n     </g>\r\n     <g id=\"text_1\">\r\n      <!-- 0.00 -->\r\n      <g transform=\"translate(122.167188 239.238437)scale(0.1 -0.1)\">\r\n       <defs>\r\n        <path d=\"M 2034 4250 \r\nQ 1547 4250 1301 3770 \r\nQ 1056 3291 1056 2328 \r\nQ 1056 1369 1301 889 \r\nQ 1547 409 2034 409 \r\nQ 2525 409 2770 889 \r\nQ 3016 1369 3016 2328 \r\nQ 3016 3291 2770 3770 \r\nQ 2525 4250 2034 4250 \r\nz\r\nM 2034 4750 \r\nQ 2819 4750 3233 4129 \r\nQ 3647 3509 3647 2328 \r\nQ 3647 1150 3233 529 \r\nQ 2819 -91 2034 -91 \r\nQ 1250 -91 836 529 \r\nQ 422 1150 422 2328 \r\nQ 422 3509 836 4129 \r\nQ 1250 4750 2034 4750 \r\nz\r\n\" id=\"DejaVuSans-30\" transform=\"scale(0.015625)\"/>\r\n        <path d=\"M 684 794 \r\nL 1344 794 \r\nL 1344 0 \r\nL 684 0 \r\nL 684 794 \r\nz\r\n\" id=\"DejaVuSans-2e\" transform=\"scale(0.015625)\"/>\r\n       </defs>\r\n       <use xlink:href=\"#DejaVuSans-30\"/>\r\n       <use x=\"63.623047\" xlink:href=\"#DejaVuSans-2e\"/>\r\n       <use x=\"95.410156\" xlink:href=\"#DejaVuSans-30\"/>\r\n       <use x=\"159.033203\" xlink:href=\"#DejaVuSans-30\"/>\r\n      </g>\r\n     </g>\r\n    </g>\r\n    <g id=\"xtick_2\">\r\n     <g id=\"line2d_2\">\r\n      <g>\r\n       <use style=\"stroke:#000000;stroke-width:0.8;\" x=\"181.60715\" xlink:href=\"#m7771e058f2\" y=\"224.64\"/>\r\n      </g>\r\n     </g>\r\n     <g id=\"text_2\">\r\n      <!-- 0.02 -->\r\n      <g transform=\"translate(170.474337 239.238437)scale(0.1 -0.1)\">\r\n       <defs>\r\n        <path d=\"M 1228 531 \r\nL 3431 531 \r\nL 3431 0 \r\nL 469 0 \r\nL 469 531 \r\nQ 828 903 1448 1529 \r\nQ 2069 2156 2228 2338 \r\nQ 2531 2678 2651 2914 \r\nQ 2772 3150 2772 3378 \r\nQ 2772 3750 2511 3984 \r\nQ 2250 4219 1831 4219 \r\nQ 1534 4219 1204 4116 \r\nQ 875 4013 500 3803 \r\nL 500 4441 \r\nQ 881 4594 1212 4672 \r\nQ 1544 4750 1819 4750 \r\nQ 2544 4750 2975 4387 \r\nQ 3406 4025 3406 3419 \r\nQ 3406 3131 3298 2873 \r\nQ 3191 2616 2906 2266 \r\nQ 2828 2175 2409 1742 \r\nQ 1991 1309 1228 531 \r\nz\r\n\" id=\"DejaVuSans-32\" transform=\"scale(0.015625)\"/>\r\n       </defs>\r\n       <use xlink:href=\"#DejaVuSans-30\"/>\r\n       <use x=\"63.623047\" xlink:href=\"#DejaVuSans-2e\"/>\r\n       <use x=\"95.410156\" xlink:href=\"#DejaVuSans-30\"/>\r\n       <use x=\"159.033203\" xlink:href=\"#DejaVuSans-32\"/>\r\n      </g>\r\n     </g>\r\n    </g>\r\n    <g id=\"xtick_3\">\r\n     <g id=\"line2d_3\">\r\n      <g>\r\n       <use style=\"stroke:#000000;stroke-width:0.8;\" x=\"229.914299\" xlink:href=\"#m7771e058f2\" y=\"224.64\"/>\r\n      </g>\r\n     </g>\r\n     <g id=\"text_3\">\r\n      <!-- 0.04 -->\r\n      <g transform=\"translate(218.781487 239.238437)scale(0.1 -0.1)\">\r\n       <defs>\r\n        <path d=\"M 2419 4116 \r\nL 825 1625 \r\nL 2419 1625 \r\nL 2419 4116 \r\nz\r\nM 2253 4666 \r\nL 3047 4666 \r\nL 3047 1625 \r\nL 3713 1625 \r\nL 3713 1100 \r\nL 3047 1100 \r\nL 3047 0 \r\nL 2419 0 \r\nL 2419 1100 \r\nL 313 1100 \r\nL 313 1709 \r\nL 2253 4666 \r\nz\r\n\" id=\"DejaVuSans-34\" transform=\"scale(0.015625)\"/>\r\n       </defs>\r\n       <use xlink:href=\"#DejaVuSans-30\"/>\r\n       <use x=\"63.623047\" xlink:href=\"#DejaVuSans-2e\"/>\r\n       <use x=\"95.410156\" xlink:href=\"#DejaVuSans-30\"/>\r\n       <use x=\"159.033203\" xlink:href=\"#DejaVuSans-34\"/>\r\n      </g>\r\n     </g>\r\n    </g>\r\n    <g id=\"xtick_4\">\r\n     <g id=\"line2d_4\">\r\n      <g>\r\n       <use style=\"stroke:#000000;stroke-width:0.8;\" x=\"278.221449\" xlink:href=\"#m7771e058f2\" y=\"224.64\"/>\r\n      </g>\r\n     </g>\r\n     <g id=\"text_4\">\r\n      <!-- 0.06 -->\r\n      <g transform=\"translate(267.088637 239.238437)scale(0.1 -0.1)\">\r\n       <defs>\r\n        <path d=\"M 2113 2584 \r\nQ 1688 2584 1439 2293 \r\nQ 1191 2003 1191 1497 \r\nQ 1191 994 1439 701 \r\nQ 1688 409 2113 409 \r\nQ 2538 409 2786 701 \r\nQ 3034 994 3034 1497 \r\nQ 3034 2003 2786 2293 \r\nQ 2538 2584 2113 2584 \r\nz\r\nM 3366 4563 \r\nL 3366 3988 \r\nQ 3128 4100 2886 4159 \r\nQ 2644 4219 2406 4219 \r\nQ 1781 4219 1451 3797 \r\nQ 1122 3375 1075 2522 \r\nQ 1259 2794 1537 2939 \r\nQ 1816 3084 2150 3084 \r\nQ 2853 3084 3261 2657 \r\nQ 3669 2231 3669 1497 \r\nQ 3669 778 3244 343 \r\nQ 2819 -91 2113 -91 \r\nQ 1303 -91 875 529 \r\nQ 447 1150 447 2328 \r\nQ 447 3434 972 4092 \r\nQ 1497 4750 2381 4750 \r\nQ 2619 4750 2861 4703 \r\nQ 3103 4656 3366 4563 \r\nz\r\n\" id=\"DejaVuSans-36\" transform=\"scale(0.015625)\"/>\r\n       </defs>\r\n       <use xlink:href=\"#DejaVuSans-30\"/>\r\n       <use x=\"63.623047\" xlink:href=\"#DejaVuSans-2e\"/>\r\n       <use x=\"95.410156\" xlink:href=\"#DejaVuSans-30\"/>\r\n       <use x=\"159.033203\" xlink:href=\"#DejaVuSans-36\"/>\r\n      </g>\r\n     </g>\r\n    </g>\r\n    <g id=\"xtick_5\">\r\n     <g id=\"line2d_5\">\r\n      <g>\r\n       <use style=\"stroke:#000000;stroke-width:0.8;\" x=\"326.528599\" xlink:href=\"#m7771e058f2\" y=\"224.64\"/>\r\n      </g>\r\n     </g>\r\n     <g id=\"text_5\">\r\n      <!-- 0.08 -->\r\n      <g transform=\"translate(315.395786 239.238437)scale(0.1 -0.1)\">\r\n       <defs>\r\n        <path d=\"M 2034 2216 \r\nQ 1584 2216 1326 1975 \r\nQ 1069 1734 1069 1313 \r\nQ 1069 891 1326 650 \r\nQ 1584 409 2034 409 \r\nQ 2484 409 2743 651 \r\nQ 3003 894 3003 1313 \r\nQ 3003 1734 2745 1975 \r\nQ 2488 2216 2034 2216 \r\nz\r\nM 1403 2484 \r\nQ 997 2584 770 2862 \r\nQ 544 3141 544 3541 \r\nQ 544 4100 942 4425 \r\nQ 1341 4750 2034 4750 \r\nQ 2731 4750 3128 4425 \r\nQ 3525 4100 3525 3541 \r\nQ 3525 3141 3298 2862 \r\nQ 3072 2584 2669 2484 \r\nQ 3125 2378 3379 2068 \r\nQ 3634 1759 3634 1313 \r\nQ 3634 634 3220 271 \r\nQ 2806 -91 2034 -91 \r\nQ 1263 -91 848 271 \r\nQ 434 634 434 1313 \r\nQ 434 1759 690 2068 \r\nQ 947 2378 1403 2484 \r\nz\r\nM 1172 3481 \r\nQ 1172 3119 1398 2916 \r\nQ 1625 2713 2034 2713 \r\nQ 2441 2713 2670 2916 \r\nQ 2900 3119 2900 3481 \r\nQ 2900 3844 2670 4047 \r\nQ 2441 4250 2034 4250 \r\nQ 1625 4250 1398 4047 \r\nQ 1172 3844 1172 3481 \r\nz\r\n\" id=\"DejaVuSans-38\" transform=\"scale(0.015625)\"/>\r\n       </defs>\r\n       <use xlink:href=\"#DejaVuSans-30\"/>\r\n       <use x=\"63.623047\" xlink:href=\"#DejaVuSans-2e\"/>\r\n       <use x=\"95.410156\" xlink:href=\"#DejaVuSans-30\"/>\r\n       <use x=\"159.033203\" xlink:href=\"#DejaVuSans-38\"/>\r\n      </g>\r\n     </g>\r\n    </g>\r\n    <g id=\"xtick_6\">\r\n     <g id=\"line2d_6\">\r\n      <g>\r\n       <use style=\"stroke:#000000;stroke-width:0.8;\" x=\"374.835749\" xlink:href=\"#m7771e058f2\" y=\"224.64\"/>\r\n      </g>\r\n     </g>\r\n     <g id=\"text_6\">\r\n      <!-- 0.10 -->\r\n      <g transform=\"translate(363.702936 239.238437)scale(0.1 -0.1)\">\r\n       <defs>\r\n        <path d=\"M 794 531 \r\nL 1825 531 \r\nL 1825 4091 \r\nL 703 3866 \r\nL 703 4441 \r\nL 1819 4666 \r\nL 2450 4666 \r\nL 2450 531 \r\nL 3481 531 \r\nL 3481 0 \r\nL 794 0 \r\nL 794 531 \r\nz\r\n\" id=\"DejaVuSans-31\" transform=\"scale(0.015625)\"/>\r\n       </defs>\r\n       <use xlink:href=\"#DejaVuSans-30\"/>\r\n       <use x=\"63.623047\" xlink:href=\"#DejaVuSans-2e\"/>\r\n       <use x=\"95.410156\" xlink:href=\"#DejaVuSans-31\"/>\r\n       <use x=\"159.033203\" xlink:href=\"#DejaVuSans-30\"/>\r\n      </g>\r\n     </g>\r\n    </g>\r\n    <g id=\"xtick_7\">\r\n     <g id=\"line2d_7\">\r\n      <g>\r\n       <use style=\"stroke:#000000;stroke-width:0.8;\" x=\"423.142898\" xlink:href=\"#m7771e058f2\" y=\"224.64\"/>\r\n      </g>\r\n     </g>\r\n     <g id=\"text_7\">\r\n      <!-- 0.12 -->\r\n      <g transform=\"translate(412.010086 239.238437)scale(0.1 -0.1)\">\r\n       <use xlink:href=\"#DejaVuSans-30\"/>\r\n       <use x=\"63.623047\" xlink:href=\"#DejaVuSans-2e\"/>\r\n       <use x=\"95.410156\" xlink:href=\"#DejaVuSans-31\"/>\r\n       <use x=\"159.033203\" xlink:href=\"#DejaVuSans-32\"/>\r\n      </g>\r\n     </g>\r\n    </g>\r\n   </g>\r\n   <g id=\"matplotlib.axis_2\">\r\n    <g id=\"ytick_1\">\r\n     <g id=\"line2d_8\">\r\n      <defs>\r\n       <path d=\"M 0 0 \r\nL -3.5 0 \r\n\" id=\"m0d5ecc2bfd\" style=\"stroke:#000000;stroke-width:0.8;\"/>\r\n      </defs>\r\n      <g>\r\n       <use style=\"stroke:#000000;stroke-width:0.8;\" x=\"133.3\" xlink:href=\"#m0d5ecc2bfd\" y=\"218.302063\"/>\r\n      </g>\r\n     </g>\r\n     <g id=\"text_8\">\r\n      <!-- Title_Rare -->\r\n      <g transform=\"translate(76.984375 222.101282)scale(0.1 -0.1)\">\r\n       <defs>\r\n        <path d=\"M -19 4666 \r\nL 3928 4666 \r\nL 3928 4134 \r\nL 2272 4134 \r\nL 2272 0 \r\nL 1638 0 \r\nL 1638 4134 \r\nL -19 4134 \r\nL -19 4666 \r\nz\r\n\" id=\"DejaVuSans-54\" transform=\"scale(0.015625)\"/>\r\n        <path d=\"M 603 3500 \r\nL 1178 3500 \r\nL 1178 0 \r\nL 603 0 \r\nL 603 3500 \r\nz\r\nM 603 4863 \r\nL 1178 4863 \r\nL 1178 4134 \r\nL 603 4134 \r\nL 603 4863 \r\nz\r\n\" id=\"DejaVuSans-69\" transform=\"scale(0.015625)\"/>\r\n        <path d=\"M 1172 4494 \r\nL 1172 3500 \r\nL 2356 3500 \r\nL 2356 3053 \r\nL 1172 3053 \r\nL 1172 1153 \r\nQ 1172 725 1289 603 \r\nQ 1406 481 1766 481 \r\nL 2356 481 \r\nL 2356 0 \r\nL 1766 0 \r\nQ 1100 0 847 248 \r\nQ 594 497 594 1153 \r\nL 594 3053 \r\nL 172 3053 \r\nL 172 3500 \r\nL 594 3500 \r\nL 594 4494 \r\nL 1172 4494 \r\nz\r\n\" id=\"DejaVuSans-74\" transform=\"scale(0.015625)\"/>\r\n        <path d=\"M 603 4863 \r\nL 1178 4863 \r\nL 1178 0 \r\nL 603 0 \r\nL 603 4863 \r\nz\r\n\" id=\"DejaVuSans-6c\" transform=\"scale(0.015625)\"/>\r\n        <path d=\"M 3597 1894 \r\nL 3597 1613 \r\nL 953 1613 \r\nQ 991 1019 1311 708 \r\nQ 1631 397 2203 397 \r\nQ 2534 397 2845 478 \r\nQ 3156 559 3463 722 \r\nL 3463 178 \r\nQ 3153 47 2828 -22 \r\nQ 2503 -91 2169 -91 \r\nQ 1331 -91 842 396 \r\nQ 353 884 353 1716 \r\nQ 353 2575 817 3079 \r\nQ 1281 3584 2069 3584 \r\nQ 2775 3584 3186 3129 \r\nQ 3597 2675 3597 1894 \r\nz\r\nM 3022 2063 \r\nQ 3016 2534 2758 2815 \r\nQ 2500 3097 2075 3097 \r\nQ 1594 3097 1305 2825 \r\nQ 1016 2553 972 2059 \r\nL 3022 2063 \r\nz\r\n\" id=\"DejaVuSans-65\" transform=\"scale(0.015625)\"/>\r\n        <path d=\"M 3263 -1063 \r\nL 3263 -1509 \r\nL -63 -1509 \r\nL -63 -1063 \r\nL 3263 -1063 \r\nz\r\n\" id=\"DejaVuSans-5f\" transform=\"scale(0.015625)\"/>\r\n        <path d=\"M 2841 2188 \r\nQ 3044 2119 3236 1894 \r\nQ 3428 1669 3622 1275 \r\nL 4263 0 \r\nL 3584 0 \r\nL 2988 1197 \r\nQ 2756 1666 2539 1819 \r\nQ 2322 1972 1947 1972 \r\nL 1259 1972 \r\nL 1259 0 \r\nL 628 0 \r\nL 628 4666 \r\nL 2053 4666 \r\nQ 2853 4666 3247 4331 \r\nQ 3641 3997 3641 3322 \r\nQ 3641 2881 3436 2590 \r\nQ 3231 2300 2841 2188 \r\nz\r\nM 1259 4147 \r\nL 1259 2491 \r\nL 2053 2491 \r\nQ 2509 2491 2742 2702 \r\nQ 2975 2913 2975 3322 \r\nQ 2975 3731 2742 3939 \r\nQ 2509 4147 2053 4147 \r\nL 1259 4147 \r\nz\r\n\" id=\"DejaVuSans-52\" transform=\"scale(0.015625)\"/>\r\n        <path d=\"M 2194 1759 \r\nQ 1497 1759 1228 1600 \r\nQ 959 1441 959 1056 \r\nQ 959 750 1161 570 \r\nQ 1363 391 1709 391 \r\nQ 2188 391 2477 730 \r\nQ 2766 1069 2766 1631 \r\nL 2766 1759 \r\nL 2194 1759 \r\nz\r\nM 3341 1997 \r\nL 3341 0 \r\nL 2766 0 \r\nL 2766 531 \r\nQ 2569 213 2275 61 \r\nQ 1981 -91 1556 -91 \r\nQ 1019 -91 701 211 \r\nQ 384 513 384 1019 \r\nQ 384 1609 779 1909 \r\nQ 1175 2209 1959 2209 \r\nL 2766 2209 \r\nL 2766 2266 \r\nQ 2766 2663 2505 2880 \r\nQ 2244 3097 1772 3097 \r\nQ 1472 3097 1187 3025 \r\nQ 903 2953 641 2809 \r\nL 641 3341 \r\nQ 956 3463 1253 3523 \r\nQ 1550 3584 1831 3584 \r\nQ 2591 3584 2966 3190 \r\nQ 3341 2797 3341 1997 \r\nz\r\n\" id=\"DejaVuSans-61\" transform=\"scale(0.015625)\"/>\r\n        <path d=\"M 2631 2963 \r\nQ 2534 3019 2420 3045 \r\nQ 2306 3072 2169 3072 \r\nQ 1681 3072 1420 2755 \r\nQ 1159 2438 1159 1844 \r\nL 1159 0 \r\nL 581 0 \r\nL 581 3500 \r\nL 1159 3500 \r\nL 1159 2956 \r\nQ 1341 3275 1631 3429 \r\nQ 1922 3584 2338 3584 \r\nQ 2397 3584 2469 3576 \r\nQ 2541 3569 2628 3553 \r\nL 2631 2963 \r\nz\r\n\" id=\"DejaVuSans-72\" transform=\"scale(0.015625)\"/>\r\n       </defs>\r\n       <use xlink:href=\"#DejaVuSans-54\"/>\r\n       <use x=\"57.958984\" xlink:href=\"#DejaVuSans-69\"/>\r\n       <use x=\"85.742188\" xlink:href=\"#DejaVuSans-74\"/>\r\n       <use x=\"124.951172\" xlink:href=\"#DejaVuSans-6c\"/>\r\n       <use x=\"152.734375\" xlink:href=\"#DejaVuSans-65\"/>\r\n       <use x=\"214.257812\" xlink:href=\"#DejaVuSans-5f\"/>\r\n       <use x=\"264.257812\" xlink:href=\"#DejaVuSans-52\"/>\r\n       <use x=\"331.490234\" xlink:href=\"#DejaVuSans-61\"/>\r\n       <use x=\"392.769531\" xlink:href=\"#DejaVuSans-72\"/>\r\n       <use x=\"431.632812\" xlink:href=\"#DejaVuSans-65\"/>\r\n      </g>\r\n     </g>\r\n    </g>\r\n    <g id=\"ytick_2\">\r\n     <g id=\"line2d_9\">\r\n      <g>\r\n       <use style=\"stroke:#000000;stroke-width:0.8;\" x=\"133.3\" xlink:href=\"#m0d5ecc2bfd\" y=\"208.55139\"/>\r\n      </g>\r\n     </g>\r\n     <g id=\"text_9\">\r\n      <!-- Em_type_Q -->\r\n      <g transform=\"translate(70.028125 212.262328)scale(0.1 -0.1)\">\r\n       <defs>\r\n        <path d=\"M 628 4666 \r\nL 3578 4666 \r\nL 3578 4134 \r\nL 1259 4134 \r\nL 1259 2753 \r\nL 3481 2753 \r\nL 3481 2222 \r\nL 1259 2222 \r\nL 1259 531 \r\nL 3634 531 \r\nL 3634 0 \r\nL 628 0 \r\nL 628 4666 \r\nz\r\n\" id=\"DejaVuSans-45\" transform=\"scale(0.015625)\"/>\r\n        <path d=\"M 3328 2828 \r\nQ 3544 3216 3844 3400 \r\nQ 4144 3584 4550 3584 \r\nQ 5097 3584 5394 3201 \r\nQ 5691 2819 5691 2113 \r\nL 5691 0 \r\nL 5113 0 \r\nL 5113 2094 \r\nQ 5113 2597 4934 2840 \r\nQ 4756 3084 4391 3084 \r\nQ 3944 3084 3684 2787 \r\nQ 3425 2491 3425 1978 \r\nL 3425 0 \r\nL 2847 0 \r\nL 2847 2094 \r\nQ 2847 2600 2669 2842 \r\nQ 2491 3084 2119 3084 \r\nQ 1678 3084 1418 2786 \r\nQ 1159 2488 1159 1978 \r\nL 1159 0 \r\nL 581 0 \r\nL 581 3500 \r\nL 1159 3500 \r\nL 1159 2956 \r\nQ 1356 3278 1631 3431 \r\nQ 1906 3584 2284 3584 \r\nQ 2666 3584 2933 3390 \r\nQ 3200 3197 3328 2828 \r\nz\r\n\" id=\"DejaVuSans-6d\" transform=\"scale(0.015625)\"/>\r\n        <path d=\"M 2059 -325 \r\nQ 1816 -950 1584 -1140 \r\nQ 1353 -1331 966 -1331 \r\nL 506 -1331 \r\nL 506 -850 \r\nL 844 -850 \r\nQ 1081 -850 1212 -737 \r\nQ 1344 -625 1503 -206 \r\nL 1606 56 \r\nL 191 3500 \r\nL 800 3500 \r\nL 1894 763 \r\nL 2988 3500 \r\nL 3597 3500 \r\nL 2059 -325 \r\nz\r\n\" id=\"DejaVuSans-79\" transform=\"scale(0.015625)\"/>\r\n        <path d=\"M 1159 525 \r\nL 1159 -1331 \r\nL 581 -1331 \r\nL 581 3500 \r\nL 1159 3500 \r\nL 1159 2969 \r\nQ 1341 3281 1617 3432 \r\nQ 1894 3584 2278 3584 \r\nQ 2916 3584 3314 3078 \r\nQ 3713 2572 3713 1747 \r\nQ 3713 922 3314 415 \r\nQ 2916 -91 2278 -91 \r\nQ 1894 -91 1617 61 \r\nQ 1341 213 1159 525 \r\nz\r\nM 3116 1747 \r\nQ 3116 2381 2855 2742 \r\nQ 2594 3103 2138 3103 \r\nQ 1681 3103 1420 2742 \r\nQ 1159 2381 1159 1747 \r\nQ 1159 1113 1420 752 \r\nQ 1681 391 2138 391 \r\nQ 2594 391 2855 752 \r\nQ 3116 1113 3116 1747 \r\nz\r\n\" id=\"DejaVuSans-70\" transform=\"scale(0.015625)\"/>\r\n        <path d=\"M 2522 4238 \r\nQ 1834 4238 1429 3725 \r\nQ 1025 3213 1025 2328 \r\nQ 1025 1447 1429 934 \r\nQ 1834 422 2522 422 \r\nQ 3209 422 3611 934 \r\nQ 4013 1447 4013 2328 \r\nQ 4013 3213 3611 3725 \r\nQ 3209 4238 2522 4238 \r\nz\r\nM 3406 84 \r\nL 4238 -825 \r\nL 3475 -825 \r\nL 2784 -78 \r\nQ 2681 -84 2626 -87 \r\nQ 2572 -91 2522 -91 \r\nQ 1538 -91 948 567 \r\nQ 359 1225 359 2328 \r\nQ 359 3434 948 4092 \r\nQ 1538 4750 2522 4750 \r\nQ 3503 4750 4090 4092 \r\nQ 4678 3434 4678 2328 \r\nQ 4678 1516 4351 937 \r\nQ 4025 359 3406 84 \r\nz\r\n\" id=\"DejaVuSans-51\" transform=\"scale(0.015625)\"/>\r\n       </defs>\r\n       <use xlink:href=\"#DejaVuSans-45\"/>\r\n       <use x=\"63.183594\" xlink:href=\"#DejaVuSans-6d\"/>\r\n       <use x=\"160.595703\" xlink:href=\"#DejaVuSans-5f\"/>\r\n       <use x=\"210.595703\" xlink:href=\"#DejaVuSans-74\"/>\r\n       <use x=\"249.804688\" xlink:href=\"#DejaVuSans-79\"/>\r\n       <use x=\"308.984375\" xlink:href=\"#DejaVuSans-70\"/>\r\n       <use x=\"372.460938\" xlink:href=\"#DejaVuSans-65\"/>\r\n       <use x=\"433.984375\" xlink:href=\"#DejaVuSans-5f\"/>\r\n       <use x=\"483.984375\" xlink:href=\"#DejaVuSans-51\"/>\r\n      </g>\r\n     </g>\r\n    </g>\r\n    <g id=\"ytick_3\">\r\n     <g id=\"line2d_10\">\r\n      <g>\r\n       <use style=\"stroke:#000000;stroke-width:0.8;\" x=\"133.3\" xlink:href=\"#m0d5ecc2bfd\" y=\"198.800717\"/>\r\n      </g>\r\n     </g>\r\n     <g id=\"text_10\">\r\n      <!-- Title_Master -->\r\n      <g transform=\"translate(65.725 202.599936)scale(0.1 -0.1)\">\r\n       <defs>\r\n        <path d=\"M 628 4666 \r\nL 1569 4666 \r\nL 2759 1491 \r\nL 3956 4666 \r\nL 4897 4666 \r\nL 4897 0 \r\nL 4281 0 \r\nL 4281 4097 \r\nL 3078 897 \r\nL 2444 897 \r\nL 1241 4097 \r\nL 1241 0 \r\nL 628 0 \r\nL 628 4666 \r\nz\r\n\" id=\"DejaVuSans-4d\" transform=\"scale(0.015625)\"/>\r\n        <path d=\"M 2834 3397 \r\nL 2834 2853 \r\nQ 2591 2978 2328 3040 \r\nQ 2066 3103 1784 3103 \r\nQ 1356 3103 1142 2972 \r\nQ 928 2841 928 2578 \r\nQ 928 2378 1081 2264 \r\nQ 1234 2150 1697 2047 \r\nL 1894 2003 \r\nQ 2506 1872 2764 1633 \r\nQ 3022 1394 3022 966 \r\nQ 3022 478 2636 193 \r\nQ 2250 -91 1575 -91 \r\nQ 1294 -91 989 -36 \r\nQ 684 19 347 128 \r\nL 347 722 \r\nQ 666 556 975 473 \r\nQ 1284 391 1588 391 \r\nQ 1994 391 2212 530 \r\nQ 2431 669 2431 922 \r\nQ 2431 1156 2273 1281 \r\nQ 2116 1406 1581 1522 \r\nL 1381 1569 \r\nQ 847 1681 609 1914 \r\nQ 372 2147 372 2553 \r\nQ 372 3047 722 3315 \r\nQ 1072 3584 1716 3584 \r\nQ 2034 3584 2315 3537 \r\nQ 2597 3491 2834 3397 \r\nz\r\n\" id=\"DejaVuSans-73\" transform=\"scale(0.015625)\"/>\r\n       </defs>\r\n       <use xlink:href=\"#DejaVuSans-54\"/>\r\n       <use x=\"57.958984\" xlink:href=\"#DejaVuSans-69\"/>\r\n       <use x=\"85.742188\" xlink:href=\"#DejaVuSans-74\"/>\r\n       <use x=\"124.951172\" xlink:href=\"#DejaVuSans-6c\"/>\r\n       <use x=\"152.734375\" xlink:href=\"#DejaVuSans-65\"/>\r\n       <use x=\"214.257812\" xlink:href=\"#DejaVuSans-5f\"/>\r\n       <use x=\"264.257812\" xlink:href=\"#DejaVuSans-4d\"/>\r\n       <use x=\"350.537109\" xlink:href=\"#DejaVuSans-61\"/>\r\n       <use x=\"411.816406\" xlink:href=\"#DejaVuSans-73\"/>\r\n       <use x=\"463.916016\" xlink:href=\"#DejaVuSans-74\"/>\r\n       <use x=\"503.125\" xlink:href=\"#DejaVuSans-65\"/>\r\n       <use x=\"564.648438\" xlink:href=\"#DejaVuSans-72\"/>\r\n      </g>\r\n     </g>\r\n    </g>\r\n    <g id=\"ytick_4\">\r\n     <g id=\"line2d_11\">\r\n      <g>\r\n       <use style=\"stroke:#000000;stroke-width:0.8;\" x=\"133.3\" xlink:href=\"#m0d5ecc2bfd\" y=\"189.050045\"/>\r\n      </g>\r\n     </g>\r\n     <g id=\"text_11\">\r\n      <!-- Age_type_Teenage -->\r\n      <g transform=\"translate(32.935938 192.710201)scale(0.1 -0.1)\">\r\n       <defs>\r\n        <path d=\"M 2188 4044 \r\nL 1331 1722 \r\nL 3047 1722 \r\nL 2188 4044 \r\nz\r\nM 1831 4666 \r\nL 2547 4666 \r\nL 4325 0 \r\nL 3669 0 \r\nL 3244 1197 \r\nL 1141 1197 \r\nL 716 0 \r\nL 50 0 \r\nL 1831 4666 \r\nz\r\n\" id=\"DejaVuSans-41\" transform=\"scale(0.015625)\"/>\r\n        <path d=\"M 2906 1791 \r\nQ 2906 2416 2648 2759 \r\nQ 2391 3103 1925 3103 \r\nQ 1463 3103 1205 2759 \r\nQ 947 2416 947 1791 \r\nQ 947 1169 1205 825 \r\nQ 1463 481 1925 481 \r\nQ 2391 481 2648 825 \r\nQ 2906 1169 2906 1791 \r\nz\r\nM 3481 434 \r\nQ 3481 -459 3084 -895 \r\nQ 2688 -1331 1869 -1331 \r\nQ 1566 -1331 1297 -1286 \r\nQ 1028 -1241 775 -1147 \r\nL 775 -588 \r\nQ 1028 -725 1275 -790 \r\nQ 1522 -856 1778 -856 \r\nQ 2344 -856 2625 -561 \r\nQ 2906 -266 2906 331 \r\nL 2906 616 \r\nQ 2728 306 2450 153 \r\nQ 2172 0 1784 0 \r\nQ 1141 0 747 490 \r\nQ 353 981 353 1791 \r\nQ 353 2603 747 3093 \r\nQ 1141 3584 1784 3584 \r\nQ 2172 3584 2450 3431 \r\nQ 2728 3278 2906 2969 \r\nL 2906 3500 \r\nL 3481 3500 \r\nL 3481 434 \r\nz\r\n\" id=\"DejaVuSans-67\" transform=\"scale(0.015625)\"/>\r\n        <path d=\"M 3513 2113 \r\nL 3513 0 \r\nL 2938 0 \r\nL 2938 2094 \r\nQ 2938 2591 2744 2837 \r\nQ 2550 3084 2163 3084 \r\nQ 1697 3084 1428 2787 \r\nQ 1159 2491 1159 1978 \r\nL 1159 0 \r\nL 581 0 \r\nL 581 3500 \r\nL 1159 3500 \r\nL 1159 2956 \r\nQ 1366 3272 1645 3428 \r\nQ 1925 3584 2291 3584 \r\nQ 2894 3584 3203 3211 \r\nQ 3513 2838 3513 2113 \r\nz\r\n\" id=\"DejaVuSans-6e\" transform=\"scale(0.015625)\"/>\r\n       </defs>\r\n       <use xlink:href=\"#DejaVuSans-41\"/>\r\n       <use x=\"68.408203\" xlink:href=\"#DejaVuSans-67\"/>\r\n       <use x=\"131.884766\" xlink:href=\"#DejaVuSans-65\"/>\r\n       <use x=\"193.408203\" xlink:href=\"#DejaVuSans-5f\"/>\r\n       <use x=\"243.408203\" xlink:href=\"#DejaVuSans-74\"/>\r\n       <use x=\"282.617188\" xlink:href=\"#DejaVuSans-79\"/>\r\n       <use x=\"341.796875\" xlink:href=\"#DejaVuSans-70\"/>\r\n       <use x=\"405.273438\" xlink:href=\"#DejaVuSans-65\"/>\r\n       <use x=\"466.796875\" xlink:href=\"#DejaVuSans-5f\"/>\r\n       <use x=\"516.796875\" xlink:href=\"#DejaVuSans-54\"/>\r\n       <use x=\"560.880859\" xlink:href=\"#DejaVuSans-65\"/>\r\n       <use x=\"622.404297\" xlink:href=\"#DejaVuSans-65\"/>\r\n       <use x=\"683.927734\" xlink:href=\"#DejaVuSans-6e\"/>\r\n       <use x=\"747.306641\" xlink:href=\"#DejaVuSans-61\"/>\r\n       <use x=\"808.585938\" xlink:href=\"#DejaVuSans-67\"/>\r\n       <use x=\"872.0625\" xlink:href=\"#DejaVuSans-65\"/>\r\n      </g>\r\n     </g>\r\n    </g>\r\n    <g id=\"ytick_5\">\r\n     <g id=\"line2d_12\">\r\n      <g>\r\n       <use style=\"stroke:#000000;stroke-width:0.8;\" x=\"133.3\" xlink:href=\"#m0d5ecc2bfd\" y=\"179.299372\"/>\r\n      </g>\r\n     </g>\r\n     <g id=\"text_12\">\r\n      <!-- Age_type_Elder -->\r\n      <g transform=\"translate(48.907813 183.098591)scale(0.1 -0.1)\">\r\n       <defs>\r\n        <path d=\"M 2906 2969 \r\nL 2906 4863 \r\nL 3481 4863 \r\nL 3481 0 \r\nL 2906 0 \r\nL 2906 525 \r\nQ 2725 213 2448 61 \r\nQ 2172 -91 1784 -91 \r\nQ 1150 -91 751 415 \r\nQ 353 922 353 1747 \r\nQ 353 2572 751 3078 \r\nQ 1150 3584 1784 3584 \r\nQ 2172 3584 2448 3432 \r\nQ 2725 3281 2906 2969 \r\nz\r\nM 947 1747 \r\nQ 947 1113 1208 752 \r\nQ 1469 391 1925 391 \r\nQ 2381 391 2643 752 \r\nQ 2906 1113 2906 1747 \r\nQ 2906 2381 2643 2742 \r\nQ 2381 3103 1925 3103 \r\nQ 1469 3103 1208 2742 \r\nQ 947 2381 947 1747 \r\nz\r\n\" id=\"DejaVuSans-64\" transform=\"scale(0.015625)\"/>\r\n       </defs>\r\n       <use xlink:href=\"#DejaVuSans-41\"/>\r\n       <use x=\"68.408203\" xlink:href=\"#DejaVuSans-67\"/>\r\n       <use x=\"131.884766\" xlink:href=\"#DejaVuSans-65\"/>\r\n       <use x=\"193.408203\" xlink:href=\"#DejaVuSans-5f\"/>\r\n       <use x=\"243.408203\" xlink:href=\"#DejaVuSans-74\"/>\r\n       <use x=\"282.617188\" xlink:href=\"#DejaVuSans-79\"/>\r\n       <use x=\"341.796875\" xlink:href=\"#DejaVuSans-70\"/>\r\n       <use x=\"405.273438\" xlink:href=\"#DejaVuSans-65\"/>\r\n       <use x=\"466.796875\" xlink:href=\"#DejaVuSans-5f\"/>\r\n       <use x=\"516.796875\" xlink:href=\"#DejaVuSans-45\"/>\r\n       <use x=\"579.980469\" xlink:href=\"#DejaVuSans-6c\"/>\r\n       <use x=\"607.763672\" xlink:href=\"#DejaVuSans-64\"/>\r\n       <use x=\"671.240234\" xlink:href=\"#DejaVuSans-65\"/>\r\n       <use x=\"732.763672\" xlink:href=\"#DejaVuSans-72\"/>\r\n      </g>\r\n     </g>\r\n    </g>\r\n    <g id=\"ytick_6\">\r\n     <g id=\"line2d_13\">\r\n      <g>\r\n       <use style=\"stroke:#000000;stroke-width:0.8;\" x=\"133.3\" xlink:href=\"#m0d5ecc2bfd\" y=\"169.5487\"/>\r\n      </g>\r\n     </g>\r\n     <g id=\"text_13\">\r\n      <!-- Age_type_Children -->\r\n      <g transform=\"translate(33.015625 173.347918)scale(0.1 -0.1)\">\r\n       <defs>\r\n        <path d=\"M 4122 4306 \r\nL 4122 3641 \r\nQ 3803 3938 3442 4084 \r\nQ 3081 4231 2675 4231 \r\nQ 1875 4231 1450 3742 \r\nQ 1025 3253 1025 2328 \r\nQ 1025 1406 1450 917 \r\nQ 1875 428 2675 428 \r\nQ 3081 428 3442 575 \r\nQ 3803 722 4122 1019 \r\nL 4122 359 \r\nQ 3791 134 3420 21 \r\nQ 3050 -91 2638 -91 \r\nQ 1578 -91 968 557 \r\nQ 359 1206 359 2328 \r\nQ 359 3453 968 4101 \r\nQ 1578 4750 2638 4750 \r\nQ 3056 4750 3426 4639 \r\nQ 3797 4528 4122 4306 \r\nz\r\n\" id=\"DejaVuSans-43\" transform=\"scale(0.015625)\"/>\r\n        <path d=\"M 3513 2113 \r\nL 3513 0 \r\nL 2938 0 \r\nL 2938 2094 \r\nQ 2938 2591 2744 2837 \r\nQ 2550 3084 2163 3084 \r\nQ 1697 3084 1428 2787 \r\nQ 1159 2491 1159 1978 \r\nL 1159 0 \r\nL 581 0 \r\nL 581 4863 \r\nL 1159 4863 \r\nL 1159 2956 \r\nQ 1366 3272 1645 3428 \r\nQ 1925 3584 2291 3584 \r\nQ 2894 3584 3203 3211 \r\nQ 3513 2838 3513 2113 \r\nz\r\n\" id=\"DejaVuSans-68\" transform=\"scale(0.015625)\"/>\r\n       </defs>\r\n       <use xlink:href=\"#DejaVuSans-41\"/>\r\n       <use x=\"68.408203\" xlink:href=\"#DejaVuSans-67\"/>\r\n       <use x=\"131.884766\" xlink:href=\"#DejaVuSans-65\"/>\r\n       <use x=\"193.408203\" xlink:href=\"#DejaVuSans-5f\"/>\r\n       <use x=\"243.408203\" xlink:href=\"#DejaVuSans-74\"/>\r\n       <use x=\"282.617188\" xlink:href=\"#DejaVuSans-79\"/>\r\n       <use x=\"341.796875\" xlink:href=\"#DejaVuSans-70\"/>\r\n       <use x=\"405.273438\" xlink:href=\"#DejaVuSans-65\"/>\r\n       <use x=\"466.796875\" xlink:href=\"#DejaVuSans-5f\"/>\r\n       <use x=\"516.796875\" xlink:href=\"#DejaVuSans-43\"/>\r\n       <use x=\"586.621094\" xlink:href=\"#DejaVuSans-68\"/>\r\n       <use x=\"650\" xlink:href=\"#DejaVuSans-69\"/>\r\n       <use x=\"677.783203\" xlink:href=\"#DejaVuSans-6c\"/>\r\n       <use x=\"705.566406\" xlink:href=\"#DejaVuSans-64\"/>\r\n       <use x=\"769.042969\" xlink:href=\"#DejaVuSans-72\"/>\r\n       <use x=\"807.90625\" xlink:href=\"#DejaVuSans-65\"/>\r\n       <use x=\"869.429688\" xlink:href=\"#DejaVuSans-6e\"/>\r\n      </g>\r\n     </g>\r\n    </g>\r\n    <g id=\"ytick_7\">\r\n     <g id=\"line2d_14\">\r\n      <g>\r\n       <use style=\"stroke:#000000;stroke-width:0.8;\" x=\"133.3\" xlink:href=\"#m0d5ecc2bfd\" y=\"159.798027\"/>\r\n      </g>\r\n     </g>\r\n     <g id=\"text_14\">\r\n      <!-- Fare_type_median_fare -->\r\n      <g transform=\"translate(10.779688 163.597246)scale(0.1 -0.1)\">\r\n       <defs>\r\n        <path d=\"M 628 4666 \r\nL 3309 4666 \r\nL 3309 4134 \r\nL 1259 4134 \r\nL 1259 2759 \r\nL 3109 2759 \r\nL 3109 2228 \r\nL 1259 2228 \r\nL 1259 0 \r\nL 628 0 \r\nL 628 4666 \r\nz\r\n\" id=\"DejaVuSans-46\" transform=\"scale(0.015625)\"/>\r\n        <path d=\"M 2375 4863 \r\nL 2375 4384 \r\nL 1825 4384 \r\nQ 1516 4384 1395 4259 \r\nQ 1275 4134 1275 3809 \r\nL 1275 3500 \r\nL 2222 3500 \r\nL 2222 3053 \r\nL 1275 3053 \r\nL 1275 0 \r\nL 697 0 \r\nL 697 3053 \r\nL 147 3053 \r\nL 147 3500 \r\nL 697 3500 \r\nL 697 3744 \r\nQ 697 4328 969 4595 \r\nQ 1241 4863 1831 4863 \r\nL 2375 4863 \r\nz\r\n\" id=\"DejaVuSans-66\" transform=\"scale(0.015625)\"/>\r\n       </defs>\r\n       <use xlink:href=\"#DejaVuSans-46\"/>\r\n       <use x=\"48.394531\" xlink:href=\"#DejaVuSans-61\"/>\r\n       <use x=\"109.673828\" xlink:href=\"#DejaVuSans-72\"/>\r\n       <use x=\"148.537109\" xlink:href=\"#DejaVuSans-65\"/>\r\n       <use x=\"210.060547\" xlink:href=\"#DejaVuSans-5f\"/>\r\n       <use x=\"260.060547\" xlink:href=\"#DejaVuSans-74\"/>\r\n       <use x=\"299.269531\" xlink:href=\"#DejaVuSans-79\"/>\r\n       <use x=\"358.449219\" xlink:href=\"#DejaVuSans-70\"/>\r\n       <use x=\"421.925781\" xlink:href=\"#DejaVuSans-65\"/>\r\n       <use x=\"483.449219\" xlink:href=\"#DejaVuSans-5f\"/>\r\n       <use x=\"533.449219\" xlink:href=\"#DejaVuSans-6d\"/>\r\n       <use x=\"630.861328\" xlink:href=\"#DejaVuSans-65\"/>\r\n       <use x=\"692.384766\" xlink:href=\"#DejaVuSans-64\"/>\r\n       <use x=\"755.861328\" xlink:href=\"#DejaVuSans-69\"/>\r\n       <use x=\"783.644531\" xlink:href=\"#DejaVuSans-61\"/>\r\n       <use x=\"844.923828\" xlink:href=\"#DejaVuSans-6e\"/>\r\n       <use x=\"908.302734\" xlink:href=\"#DejaVuSans-5f\"/>\r\n       <use x=\"958.302734\" xlink:href=\"#DejaVuSans-66\"/>\r\n       <use x=\"993.507812\" xlink:href=\"#DejaVuSans-61\"/>\r\n       <use x=\"1054.787109\" xlink:href=\"#DejaVuSans-72\"/>\r\n       <use x=\"1093.650391\" xlink:href=\"#DejaVuSans-65\"/>\r\n      </g>\r\n     </g>\r\n    </g>\r\n    <g id=\"ytick_8\">\r\n     <g id=\"line2d_15\">\r\n      <g>\r\n       <use style=\"stroke:#000000;stroke-width:0.8;\" x=\"133.3\" xlink:href=\"#m0d5ecc2bfd\" y=\"150.047354\"/>\r\n      </g>\r\n     </g>\r\n     <g id=\"text_15\">\r\n      <!-- Fare_type_Low_fare -->\r\n      <g transform=\"translate(28.571875 153.846573)scale(0.1 -0.1)\">\r\n       <defs>\r\n        <path d=\"M 628 4666 \r\nL 1259 4666 \r\nL 1259 531 \r\nL 3531 531 \r\nL 3531 0 \r\nL 628 0 \r\nL 628 4666 \r\nz\r\n\" id=\"DejaVuSans-4c\" transform=\"scale(0.015625)\"/>\r\n        <path d=\"M 1959 3097 \r\nQ 1497 3097 1228 2736 \r\nQ 959 2375 959 1747 \r\nQ 959 1119 1226 758 \r\nQ 1494 397 1959 397 \r\nQ 2419 397 2687 759 \r\nQ 2956 1122 2956 1747 \r\nQ 2956 2369 2687 2733 \r\nQ 2419 3097 1959 3097 \r\nz\r\nM 1959 3584 \r\nQ 2709 3584 3137 3096 \r\nQ 3566 2609 3566 1747 \r\nQ 3566 888 3137 398 \r\nQ 2709 -91 1959 -91 \r\nQ 1206 -91 779 398 \r\nQ 353 888 353 1747 \r\nQ 353 2609 779 3096 \r\nQ 1206 3584 1959 3584 \r\nz\r\n\" id=\"DejaVuSans-6f\" transform=\"scale(0.015625)\"/>\r\n        <path d=\"M 269 3500 \r\nL 844 3500 \r\nL 1563 769 \r\nL 2278 3500 \r\nL 2956 3500 \r\nL 3675 769 \r\nL 4391 3500 \r\nL 4966 3500 \r\nL 4050 0 \r\nL 3372 0 \r\nL 2619 2869 \r\nL 1863 0 \r\nL 1184 0 \r\nL 269 3500 \r\nz\r\n\" id=\"DejaVuSans-77\" transform=\"scale(0.015625)\"/>\r\n       </defs>\r\n       <use xlink:href=\"#DejaVuSans-46\"/>\r\n       <use x=\"48.394531\" xlink:href=\"#DejaVuSans-61\"/>\r\n       <use x=\"109.673828\" xlink:href=\"#DejaVuSans-72\"/>\r\n       <use x=\"148.537109\" xlink:href=\"#DejaVuSans-65\"/>\r\n       <use x=\"210.060547\" xlink:href=\"#DejaVuSans-5f\"/>\r\n       <use x=\"260.060547\" xlink:href=\"#DejaVuSans-74\"/>\r\n       <use x=\"299.269531\" xlink:href=\"#DejaVuSans-79\"/>\r\n       <use x=\"358.449219\" xlink:href=\"#DejaVuSans-70\"/>\r\n       <use x=\"421.925781\" xlink:href=\"#DejaVuSans-65\"/>\r\n       <use x=\"483.449219\" xlink:href=\"#DejaVuSans-5f\"/>\r\n       <use x=\"533.449219\" xlink:href=\"#DejaVuSans-4c\"/>\r\n       <use x=\"587.412109\" xlink:href=\"#DejaVuSans-6f\"/>\r\n       <use x=\"648.59375\" xlink:href=\"#DejaVuSans-77\"/>\r\n       <use x=\"730.380859\" xlink:href=\"#DejaVuSans-5f\"/>\r\n       <use x=\"780.380859\" xlink:href=\"#DejaVuSans-66\"/>\r\n       <use x=\"815.585938\" xlink:href=\"#DejaVuSans-61\"/>\r\n       <use x=\"876.865234\" xlink:href=\"#DejaVuSans-72\"/>\r\n       <use x=\"915.728516\" xlink:href=\"#DejaVuSans-65\"/>\r\n      </g>\r\n     </g>\r\n    </g>\r\n    <g id=\"ytick_9\">\r\n     <g id=\"line2d_16\">\r\n      <g>\r\n       <use style=\"stroke:#000000;stroke-width:0.8;\" x=\"133.3\" xlink:href=\"#m0d5ecc2bfd\" y=\"140.296682\"/>\r\n      </g>\r\n     </g>\r\n     <g id=\"text_16\">\r\n      <!-- Em_type_S -->\r\n      <g transform=\"translate(71.551563 144.007619)scale(0.1 -0.1)\">\r\n       <defs>\r\n        <path d=\"M 3425 4513 \r\nL 3425 3897 \r\nQ 3066 4069 2747 4153 \r\nQ 2428 4238 2131 4238 \r\nQ 1616 4238 1336 4038 \r\nQ 1056 3838 1056 3469 \r\nQ 1056 3159 1242 3001 \r\nQ 1428 2844 1947 2747 \r\nL 2328 2669 \r\nQ 3034 2534 3370 2195 \r\nQ 3706 1856 3706 1288 \r\nQ 3706 609 3251 259 \r\nQ 2797 -91 1919 -91 \r\nQ 1588 -91 1214 -16 \r\nQ 841 59 441 206 \r\nL 441 856 \r\nQ 825 641 1194 531 \r\nQ 1563 422 1919 422 \r\nQ 2459 422 2753 634 \r\nQ 3047 847 3047 1241 \r\nQ 3047 1584 2836 1778 \r\nQ 2625 1972 2144 2069 \r\nL 1759 2144 \r\nQ 1053 2284 737 2584 \r\nQ 422 2884 422 3419 \r\nQ 422 4038 858 4394 \r\nQ 1294 4750 2059 4750 \r\nQ 2388 4750 2728 4690 \r\nQ 3069 4631 3425 4513 \r\nz\r\n\" id=\"DejaVuSans-53\" transform=\"scale(0.015625)\"/>\r\n       </defs>\r\n       <use xlink:href=\"#DejaVuSans-45\"/>\r\n       <use x=\"63.183594\" xlink:href=\"#DejaVuSans-6d\"/>\r\n       <use x=\"160.595703\" xlink:href=\"#DejaVuSans-5f\"/>\r\n       <use x=\"210.595703\" xlink:href=\"#DejaVuSans-74\"/>\r\n       <use x=\"249.804688\" xlink:href=\"#DejaVuSans-79\"/>\r\n       <use x=\"308.984375\" xlink:href=\"#DejaVuSans-70\"/>\r\n       <use x=\"372.460938\" xlink:href=\"#DejaVuSans-65\"/>\r\n       <use x=\"433.984375\" xlink:href=\"#DejaVuSans-5f\"/>\r\n       <use x=\"483.984375\" xlink:href=\"#DejaVuSans-53\"/>\r\n      </g>\r\n     </g>\r\n    </g>\r\n    <g id=\"ytick_10\">\r\n     <g id=\"line2d_17\">\r\n      <g>\r\n       <use style=\"stroke:#000000;stroke-width:0.8;\" x=\"133.3\" xlink:href=\"#m0d5ecc2bfd\" y=\"130.546009\"/>\r\n      </g>\r\n     </g>\r\n     <g id=\"text_17\">\r\n      <!-- Em_type_C -->\r\n      <g transform=\"translate(70.917188 134.256946)scale(0.1 -0.1)\">\r\n       <use xlink:href=\"#DejaVuSans-45\"/>\r\n       <use x=\"63.183594\" xlink:href=\"#DejaVuSans-6d\"/>\r\n       <use x=\"160.595703\" xlink:href=\"#DejaVuSans-5f\"/>\r\n       <use x=\"210.595703\" xlink:href=\"#DejaVuSans-74\"/>\r\n       <use x=\"249.804688\" xlink:href=\"#DejaVuSans-79\"/>\r\n       <use x=\"308.984375\" xlink:href=\"#DejaVuSans-70\"/>\r\n       <use x=\"372.460938\" xlink:href=\"#DejaVuSans-65\"/>\r\n       <use x=\"433.984375\" xlink:href=\"#DejaVuSans-5f\"/>\r\n       <use x=\"483.984375\" xlink:href=\"#DejaVuSans-43\"/>\r\n      </g>\r\n     </g>\r\n    </g>\r\n    <g id=\"ytick_11\">\r\n     <g id=\"line2d_18\">\r\n      <g>\r\n       <use style=\"stroke:#000000;stroke-width:0.8;\" x=\"133.3\" xlink:href=\"#m0d5ecc2bfd\" y=\"120.795336\"/>\r\n      </g>\r\n     </g>\r\n     <g id=\"text_18\">\r\n      <!-- Age_type_Adult -->\r\n      <g transform=\"translate(48.567188 124.594555)scale(0.1 -0.1)\">\r\n       <defs>\r\n        <path d=\"M 544 1381 \r\nL 544 3500 \r\nL 1119 3500 \r\nL 1119 1403 \r\nQ 1119 906 1312 657 \r\nQ 1506 409 1894 409 \r\nQ 2359 409 2629 706 \r\nQ 2900 1003 2900 1516 \r\nL 2900 3500 \r\nL 3475 3500 \r\nL 3475 0 \r\nL 2900 0 \r\nL 2900 538 \r\nQ 2691 219 2414 64 \r\nQ 2138 -91 1772 -91 \r\nQ 1169 -91 856 284 \r\nQ 544 659 544 1381 \r\nz\r\nM 1991 3584 \r\nL 1991 3584 \r\nz\r\n\" id=\"DejaVuSans-75\" transform=\"scale(0.015625)\"/>\r\n       </defs>\r\n       <use xlink:href=\"#DejaVuSans-41\"/>\r\n       <use x=\"68.408203\" xlink:href=\"#DejaVuSans-67\"/>\r\n       <use x=\"131.884766\" xlink:href=\"#DejaVuSans-65\"/>\r\n       <use x=\"193.408203\" xlink:href=\"#DejaVuSans-5f\"/>\r\n       <use x=\"243.408203\" xlink:href=\"#DejaVuSans-74\"/>\r\n       <use x=\"282.617188\" xlink:href=\"#DejaVuSans-79\"/>\r\n       <use x=\"341.796875\" xlink:href=\"#DejaVuSans-70\"/>\r\n       <use x=\"405.273438\" xlink:href=\"#DejaVuSans-65\"/>\r\n       <use x=\"466.796875\" xlink:href=\"#DejaVuSans-5f\"/>\r\n       <use x=\"516.796875\" xlink:href=\"#DejaVuSans-41\"/>\r\n       <use x=\"583.455078\" xlink:href=\"#DejaVuSans-64\"/>\r\n       <use x=\"646.931641\" xlink:href=\"#DejaVuSans-75\"/>\r\n       <use x=\"710.310547\" xlink:href=\"#DejaVuSans-6c\"/>\r\n       <use x=\"738.09375\" xlink:href=\"#DejaVuSans-74\"/>\r\n      </g>\r\n     </g>\r\n    </g>\r\n    <g id=\"ytick_12\">\r\n     <g id=\"line2d_19\">\r\n      <g>\r\n       <use style=\"stroke:#000000;stroke-width:0.8;\" x=\"133.3\" xlink:href=\"#m0d5ecc2bfd\" y=\"111.044664\"/>\r\n      </g>\r\n     </g>\r\n     <g id=\"text_19\">\r\n      <!-- Fare_type_high_fare -->\r\n      <g transform=\"translate(26.464063 114.843882)scale(0.1 -0.1)\">\r\n       <use xlink:href=\"#DejaVuSans-46\"/>\r\n       <use x=\"48.394531\" xlink:href=\"#DejaVuSans-61\"/>\r\n       <use x=\"109.673828\" xlink:href=\"#DejaVuSans-72\"/>\r\n       <use x=\"148.537109\" xlink:href=\"#DejaVuSans-65\"/>\r\n       <use x=\"210.060547\" xlink:href=\"#DejaVuSans-5f\"/>\r\n       <use x=\"260.060547\" xlink:href=\"#DejaVuSans-74\"/>\r\n       <use x=\"299.269531\" xlink:href=\"#DejaVuSans-79\"/>\r\n       <use x=\"358.449219\" xlink:href=\"#DejaVuSans-70\"/>\r\n       <use x=\"421.925781\" xlink:href=\"#DejaVuSans-65\"/>\r\n       <use x=\"483.449219\" xlink:href=\"#DejaVuSans-5f\"/>\r\n       <use x=\"533.449219\" xlink:href=\"#DejaVuSans-68\"/>\r\n       <use x=\"596.828125\" xlink:href=\"#DejaVuSans-69\"/>\r\n       <use x=\"624.611328\" xlink:href=\"#DejaVuSans-67\"/>\r\n       <use x=\"688.087891\" xlink:href=\"#DejaVuSans-68\"/>\r\n       <use x=\"751.466797\" xlink:href=\"#DejaVuSans-5f\"/>\r\n       <use x=\"801.466797\" xlink:href=\"#DejaVuSans-66\"/>\r\n       <use x=\"836.671875\" xlink:href=\"#DejaVuSans-61\"/>\r\n       <use x=\"897.951172\" xlink:href=\"#DejaVuSans-72\"/>\r\n       <use x=\"936.814453\" xlink:href=\"#DejaVuSans-65\"/>\r\n      </g>\r\n     </g>\r\n    </g>\r\n    <g id=\"ytick_13\">\r\n     <g id=\"line2d_20\">\r\n      <g>\r\n       <use style=\"stroke:#000000;stroke-width:0.8;\" x=\"133.3\" xlink:href=\"#m0d5ecc2bfd\" y=\"101.293991\"/>\r\n      </g>\r\n     </g>\r\n     <g id=\"text_20\">\r\n      <!-- Fare_type_Average_fare -->\r\n      <g transform=\"translate(7.2 105.09321)scale(0.1 -0.1)\">\r\n       <defs>\r\n        <path d=\"M 191 3500 \r\nL 800 3500 \r\nL 1894 563 \r\nL 2988 3500 \r\nL 3597 3500 \r\nL 2284 0 \r\nL 1503 0 \r\nL 191 3500 \r\nz\r\n\" id=\"DejaVuSans-76\" transform=\"scale(0.015625)\"/>\r\n       </defs>\r\n       <use xlink:href=\"#DejaVuSans-46\"/>\r\n       <use x=\"48.394531\" xlink:href=\"#DejaVuSans-61\"/>\r\n       <use x=\"109.673828\" xlink:href=\"#DejaVuSans-72\"/>\r\n       <use x=\"148.537109\" xlink:href=\"#DejaVuSans-65\"/>\r\n       <use x=\"210.060547\" xlink:href=\"#DejaVuSans-5f\"/>\r\n       <use x=\"260.060547\" xlink:href=\"#DejaVuSans-74\"/>\r\n       <use x=\"299.269531\" xlink:href=\"#DejaVuSans-79\"/>\r\n       <use x=\"358.449219\" xlink:href=\"#DejaVuSans-70\"/>\r\n       <use x=\"421.925781\" xlink:href=\"#DejaVuSans-65\"/>\r\n       <use x=\"483.449219\" xlink:href=\"#DejaVuSans-5f\"/>\r\n       <use x=\"533.449219\" xlink:href=\"#DejaVuSans-41\"/>\r\n       <use x=\"595.982422\" xlink:href=\"#DejaVuSans-76\"/>\r\n       <use x=\"655.162109\" xlink:href=\"#DejaVuSans-65\"/>\r\n       <use x=\"716.685547\" xlink:href=\"#DejaVuSans-72\"/>\r\n       <use x=\"757.798828\" xlink:href=\"#DejaVuSans-61\"/>\r\n       <use x=\"819.078125\" xlink:href=\"#DejaVuSans-67\"/>\r\n       <use x=\"882.554688\" xlink:href=\"#DejaVuSans-65\"/>\r\n       <use x=\"944.078125\" xlink:href=\"#DejaVuSans-5f\"/>\r\n       <use x=\"994.078125\" xlink:href=\"#DejaVuSans-66\"/>\r\n       <use x=\"1029.283203\" xlink:href=\"#DejaVuSans-61\"/>\r\n       <use x=\"1090.5625\" xlink:href=\"#DejaVuSans-72\"/>\r\n       <use x=\"1129.425781\" xlink:href=\"#DejaVuSans-65\"/>\r\n      </g>\r\n     </g>\r\n    </g>\r\n    <g id=\"ytick_14\">\r\n     <g id=\"line2d_21\">\r\n      <g>\r\n       <use style=\"stroke:#000000;stroke-width:0.8;\" x=\"133.3\" xlink:href=\"#m0d5ecc2bfd\" y=\"91.543318\"/>\r\n      </g>\r\n     </g>\r\n     <g id=\"text_21\">\r\n      <!-- Parch -->\r\n      <g transform=\"translate(98.870313 95.342537)scale(0.1 -0.1)\">\r\n       <defs>\r\n        <path d=\"M 1259 4147 \r\nL 1259 2394 \r\nL 2053 2394 \r\nQ 2494 2394 2734 2622 \r\nQ 2975 2850 2975 3272 \r\nQ 2975 3691 2734 3919 \r\nQ 2494 4147 2053 4147 \r\nL 1259 4147 \r\nz\r\nM 628 4666 \r\nL 2053 4666 \r\nQ 2838 4666 3239 4311 \r\nQ 3641 3956 3641 3272 \r\nQ 3641 2581 3239 2228 \r\nQ 2838 1875 2053 1875 \r\nL 1259 1875 \r\nL 1259 0 \r\nL 628 0 \r\nL 628 4666 \r\nz\r\n\" id=\"DejaVuSans-50\" transform=\"scale(0.015625)\"/>\r\n        <path d=\"M 3122 3366 \r\nL 3122 2828 \r\nQ 2878 2963 2633 3030 \r\nQ 2388 3097 2138 3097 \r\nQ 1578 3097 1268 2742 \r\nQ 959 2388 959 1747 \r\nQ 959 1106 1268 751 \r\nQ 1578 397 2138 397 \r\nQ 2388 397 2633 464 \r\nQ 2878 531 3122 666 \r\nL 3122 134 \r\nQ 2881 22 2623 -34 \r\nQ 2366 -91 2075 -91 \r\nQ 1284 -91 818 406 \r\nQ 353 903 353 1747 \r\nQ 353 2603 823 3093 \r\nQ 1294 3584 2113 3584 \r\nQ 2378 3584 2631 3529 \r\nQ 2884 3475 3122 3366 \r\nz\r\n\" id=\"DejaVuSans-63\" transform=\"scale(0.015625)\"/>\r\n       </defs>\r\n       <use xlink:href=\"#DejaVuSans-50\"/>\r\n       <use x=\"55.802734\" xlink:href=\"#DejaVuSans-61\"/>\r\n       <use x=\"117.082031\" xlink:href=\"#DejaVuSans-72\"/>\r\n       <use x=\"155.945312\" xlink:href=\"#DejaVuSans-63\"/>\r\n       <use x=\"210.925781\" xlink:href=\"#DejaVuSans-68\"/>\r\n      </g>\r\n     </g>\r\n    </g>\r\n    <g id=\"ytick_15\">\r\n     <g id=\"line2d_22\">\r\n      <g>\r\n       <use style=\"stroke:#000000;stroke-width:0.8;\" x=\"133.3\" xlink:href=\"#m0d5ecc2bfd\" y=\"81.792646\"/>\r\n      </g>\r\n     </g>\r\n     <g id=\"text_22\">\r\n      <!-- Title_Miss -->\r\n      <g transform=\"translate(78.05 85.591864)scale(0.1 -0.1)\">\r\n       <use xlink:href=\"#DejaVuSans-54\"/>\r\n       <use x=\"57.958984\" xlink:href=\"#DejaVuSans-69\"/>\r\n       <use x=\"85.742188\" xlink:href=\"#DejaVuSans-74\"/>\r\n       <use x=\"124.951172\" xlink:href=\"#DejaVuSans-6c\"/>\r\n       <use x=\"152.734375\" xlink:href=\"#DejaVuSans-65\"/>\r\n       <use x=\"214.257812\" xlink:href=\"#DejaVuSans-5f\"/>\r\n       <use x=\"264.257812\" xlink:href=\"#DejaVuSans-4d\"/>\r\n       <use x=\"350.537109\" xlink:href=\"#DejaVuSans-69\"/>\r\n       <use x=\"378.320312\" xlink:href=\"#DejaVuSans-73\"/>\r\n       <use x=\"430.419922\" xlink:href=\"#DejaVuSans-73\"/>\r\n      </g>\r\n     </g>\r\n    </g>\r\n    <g id=\"ytick_16\">\r\n     <g id=\"line2d_23\">\r\n      <g>\r\n       <use style=\"stroke:#000000;stroke-width:0.8;\" x=\"133.3\" xlink:href=\"#m0d5ecc2bfd\" y=\"72.041973\"/>\r\n      </g>\r\n     </g>\r\n     <g id=\"text_23\">\r\n      <!-- Title_Mrs -->\r\n      <g transform=\"translate(81.926563 75.841192)scale(0.1 -0.1)\">\r\n       <use xlink:href=\"#DejaVuSans-54\"/>\r\n       <use x=\"57.958984\" xlink:href=\"#DejaVuSans-69\"/>\r\n       <use x=\"85.742188\" xlink:href=\"#DejaVuSans-74\"/>\r\n       <use x=\"124.951172\" xlink:href=\"#DejaVuSans-6c\"/>\r\n       <use x=\"152.734375\" xlink:href=\"#DejaVuSans-65\"/>\r\n       <use x=\"214.257812\" xlink:href=\"#DejaVuSans-5f\"/>\r\n       <use x=\"264.257812\" xlink:href=\"#DejaVuSans-4d\"/>\r\n       <use x=\"350.537109\" xlink:href=\"#DejaVuSans-72\"/>\r\n       <use x=\"391.650391\" xlink:href=\"#DejaVuSans-73\"/>\r\n      </g>\r\n     </g>\r\n    </g>\r\n    <g id=\"ytick_17\">\r\n     <g id=\"line2d_24\">\r\n      <g>\r\n       <use style=\"stroke:#000000;stroke-width:0.8;\" x=\"133.3\" xlink:href=\"#m0d5ecc2bfd\" y=\"62.2913\"/>\r\n      </g>\r\n     </g>\r\n     <g id=\"text_24\">\r\n      <!-- SibSp -->\r\n      <g transform=\"translate(98.128125 66.090519)scale(0.1 -0.1)\">\r\n       <defs>\r\n        <path d=\"M 3116 1747 \r\nQ 3116 2381 2855 2742 \r\nQ 2594 3103 2138 3103 \r\nQ 1681 3103 1420 2742 \r\nQ 1159 2381 1159 1747 \r\nQ 1159 1113 1420 752 \r\nQ 1681 391 2138 391 \r\nQ 2594 391 2855 752 \r\nQ 3116 1113 3116 1747 \r\nz\r\nM 1159 2969 \r\nQ 1341 3281 1617 3432 \r\nQ 1894 3584 2278 3584 \r\nQ 2916 3584 3314 3078 \r\nQ 3713 2572 3713 1747 \r\nQ 3713 922 3314 415 \r\nQ 2916 -91 2278 -91 \r\nQ 1894 -91 1617 61 \r\nQ 1341 213 1159 525 \r\nL 1159 0 \r\nL 581 0 \r\nL 581 4863 \r\nL 1159 4863 \r\nL 1159 2969 \r\nz\r\n\" id=\"DejaVuSans-62\" transform=\"scale(0.015625)\"/>\r\n       </defs>\r\n       <use xlink:href=\"#DejaVuSans-53\"/>\r\n       <use x=\"63.476562\" xlink:href=\"#DejaVuSans-69\"/>\r\n       <use x=\"91.259766\" xlink:href=\"#DejaVuSans-62\"/>\r\n       <use x=\"154.736328\" xlink:href=\"#DejaVuSans-53\"/>\r\n       <use x=\"218.212891\" xlink:href=\"#DejaVuSans-70\"/>\r\n      </g>\r\n     </g>\r\n    </g>\r\n    <g id=\"ytick_18\">\r\n     <g id=\"line2d_25\">\r\n      <g>\r\n       <use style=\"stroke:#000000;stroke-width:0.8;\" x=\"133.3\" xlink:href=\"#m0d5ecc2bfd\" y=\"52.540628\"/>\r\n      </g>\r\n     </g>\r\n     <g id=\"text_25\">\r\n      <!-- FamilySize -->\r\n      <g transform=\"translate(73.589063 56.339847)scale(0.1 -0.1)\">\r\n       <defs>\r\n        <path d=\"M 353 3500 \r\nL 3084 3500 \r\nL 3084 2975 \r\nL 922 459 \r\nL 3084 459 \r\nL 3084 0 \r\nL 275 0 \r\nL 275 525 \r\nL 2438 3041 \r\nL 353 3041 \r\nL 353 3500 \r\nz\r\n\" id=\"DejaVuSans-7a\" transform=\"scale(0.015625)\"/>\r\n       </defs>\r\n       <use xlink:href=\"#DejaVuSans-46\"/>\r\n       <use x=\"48.394531\" xlink:href=\"#DejaVuSans-61\"/>\r\n       <use x=\"109.673828\" xlink:href=\"#DejaVuSans-6d\"/>\r\n       <use x=\"207.085938\" xlink:href=\"#DejaVuSans-69\"/>\r\n       <use x=\"234.869141\" xlink:href=\"#DejaVuSans-6c\"/>\r\n       <use x=\"262.652344\" xlink:href=\"#DejaVuSans-79\"/>\r\n       <use x=\"321.832031\" xlink:href=\"#DejaVuSans-53\"/>\r\n       <use x=\"385.308594\" xlink:href=\"#DejaVuSans-69\"/>\r\n       <use x=\"413.091797\" xlink:href=\"#DejaVuSans-7a\"/>\r\n       <use x=\"465.582031\" xlink:href=\"#DejaVuSans-65\"/>\r\n      </g>\r\n     </g>\r\n    </g>\r\n    <g id=\"ytick_19\">\r\n     <g id=\"line2d_26\">\r\n      <g>\r\n       <use style=\"stroke:#000000;stroke-width:0.8;\" x=\"133.3\" xlink:href=\"#m0d5ecc2bfd\" y=\"42.789955\"/>\r\n      </g>\r\n     </g>\r\n     <g id=\"text_26\">\r\n      <!-- Sex_male -->\r\n      <g transform=\"translate(78.254688 46.589174)scale(0.1 -0.1)\">\r\n       <defs>\r\n        <path d=\"M 3513 3500 \r\nL 2247 1797 \r\nL 3578 0 \r\nL 2900 0 \r\nL 1881 1375 \r\nL 863 0 \r\nL 184 0 \r\nL 1544 1831 \r\nL 300 3500 \r\nL 978 3500 \r\nL 1906 2253 \r\nL 2834 3500 \r\nL 3513 3500 \r\nz\r\n\" id=\"DejaVuSans-78\" transform=\"scale(0.015625)\"/>\r\n       </defs>\r\n       <use xlink:href=\"#DejaVuSans-53\"/>\r\n       <use x=\"63.476562\" xlink:href=\"#DejaVuSans-65\"/>\r\n       <use x=\"123.25\" xlink:href=\"#DejaVuSans-78\"/>\r\n       <use x=\"182.429688\" xlink:href=\"#DejaVuSans-5f\"/>\r\n       <use x=\"232.429688\" xlink:href=\"#DejaVuSans-6d\"/>\r\n       <use x=\"329.841797\" xlink:href=\"#DejaVuSans-61\"/>\r\n       <use x=\"391.121094\" xlink:href=\"#DejaVuSans-6c\"/>\r\n       <use x=\"418.904297\" xlink:href=\"#DejaVuSans-65\"/>\r\n      </g>\r\n     </g>\r\n    </g>\r\n    <g id=\"ytick_20\">\r\n     <g id=\"line2d_27\">\r\n      <g>\r\n       <use style=\"stroke:#000000;stroke-width:0.8;\" x=\"133.3\" xlink:href=\"#m0d5ecc2bfd\" y=\"33.039283\"/>\r\n      </g>\r\n     </g>\r\n     <g id=\"text_27\">\r\n      <!-- Sex_female -->\r\n      <g transform=\"translate(68.58125 36.838501)scale(0.1 -0.1)\">\r\n       <use xlink:href=\"#DejaVuSans-53\"/>\r\n       <use x=\"63.476562\" xlink:href=\"#DejaVuSans-65\"/>\r\n       <use x=\"123.25\" xlink:href=\"#DejaVuSans-78\"/>\r\n       <use x=\"182.429688\" xlink:href=\"#DejaVuSans-5f\"/>\r\n       <use x=\"232.429688\" xlink:href=\"#DejaVuSans-66\"/>\r\n       <use x=\"267.634766\" xlink:href=\"#DejaVuSans-65\"/>\r\n       <use x=\"329.158203\" xlink:href=\"#DejaVuSans-6d\"/>\r\n       <use x=\"426.570312\" xlink:href=\"#DejaVuSans-61\"/>\r\n       <use x=\"487.849609\" xlink:href=\"#DejaVuSans-6c\"/>\r\n       <use x=\"515.632812\" xlink:href=\"#DejaVuSans-65\"/>\r\n      </g>\r\n     </g>\r\n    </g>\r\n    <g id=\"ytick_21\">\r\n     <g id=\"line2d_28\">\r\n      <g>\r\n       <use style=\"stroke:#000000;stroke-width:0.8;\" x=\"133.3\" xlink:href=\"#m0d5ecc2bfd\" y=\"23.28861\"/>\r\n      </g>\r\n     </g>\r\n     <g id=\"text_28\">\r\n      <!-- Title_Mr -->\r\n      <g transform=\"translate(87.135938 27.087829)scale(0.1 -0.1)\">\r\n       <use xlink:href=\"#DejaVuSans-54\"/>\r\n       <use x=\"57.958984\" xlink:href=\"#DejaVuSans-69\"/>\r\n       <use x=\"85.742188\" xlink:href=\"#DejaVuSans-74\"/>\r\n       <use x=\"124.951172\" xlink:href=\"#DejaVuSans-6c\"/>\r\n       <use x=\"152.734375\" xlink:href=\"#DejaVuSans-65\"/>\r\n       <use x=\"214.257812\" xlink:href=\"#DejaVuSans-5f\"/>\r\n       <use x=\"264.257812\" xlink:href=\"#DejaVuSans-4d\"/>\r\n       <use x=\"350.537109\" xlink:href=\"#DejaVuSans-72\"/>\r\n      </g>\r\n     </g>\r\n    </g>\r\n    <g id=\"ytick_22\">\r\n     <g id=\"line2d_29\">\r\n      <g>\r\n       <use style=\"stroke:#000000;stroke-width:0.8;\" x=\"133.3\" xlink:href=\"#m0d5ecc2bfd\" y=\"13.537937\"/>\r\n      </g>\r\n     </g>\r\n     <g id=\"text_29\">\r\n      <!-- Pclass -->\r\n      <g transform=\"translate(95.446875 17.337156)scale(0.1 -0.1)\">\r\n       <use xlink:href=\"#DejaVuSans-50\"/>\r\n       <use x=\"60.302734\" xlink:href=\"#DejaVuSans-63\"/>\r\n       <use x=\"115.283203\" xlink:href=\"#DejaVuSans-6c\"/>\r\n       <use x=\"143.066406\" xlink:href=\"#DejaVuSans-61\"/>\r\n       <use x=\"204.345703\" xlink:href=\"#DejaVuSans-73\"/>\r\n       <use x=\"256.445312\" xlink:href=\"#DejaVuSans-73\"/>\r\n      </g>\r\n     </g>\r\n    </g>\r\n   </g>\r\n   <g id=\"patch_25\">\r\n    <path d=\"M 133.3 224.64 \r\nL 133.3 7.2 \r\n\" style=\"fill:none;stroke:#000000;stroke-linecap:square;stroke-linejoin:miter;stroke-width:0.8;\"/>\r\n   </g>\r\n   <g id=\"patch_26\">\r\n    <path d=\"M 468.1 224.64 \r\nL 468.1 7.2 \r\n\" style=\"fill:none;stroke:#000000;stroke-linecap:square;stroke-linejoin:miter;stroke-width:0.8;\"/>\r\n   </g>\r\n   <g id=\"patch_27\">\r\n    <path d=\"M 133.3 224.64 \r\nL 468.1 224.64 \r\n\" style=\"fill:none;stroke:#000000;stroke-linecap:square;stroke-linejoin:miter;stroke-width:0.8;\"/>\r\n   </g>\r\n   <g id=\"patch_28\">\r\n    <path d=\"M 133.3 7.2 \r\nL 468.1 7.2 \r\n\" style=\"fill:none;stroke:#000000;stroke-linecap:square;stroke-linejoin:miter;stroke-width:0.8;\"/>\r\n   </g>\r\n  </g>\r\n </g>\r\n <defs>\r\n  <clipPath id=\"p0fe447487e\">\r\n   <rect height=\"217.44\" width=\"334.8\" x=\"133.3\" y=\"7.2\"/>\r\n  </clipPath>\r\n </defs>\r\n</svg>\r\n",
      "image/png": "[encoded data removed]"
     },
     "metadata": {
      "needs_background": "light"
     }
    }
   ],
   "source": [
    "\r\n",
    "from sklearn.ensemble import RandomForestClassifier\r\n",
    "random_forest = RandomForestClassifier(bootstrap=True, class_weight=None, criterion='gini',\r\n",
    "            max_depth=None, max_features='auto', max_leaf_nodes=None,\r\n",
    "            min_impurity_decrease=0.0, min_impurity_split=None,\r\n",
    "            min_samples_leaf=1, min_samples_split=2,\r\n",
    "            min_weight_fraction_leaf=0.0, n_estimators=400, n_jobs=1,\r\n",
    "            oob_score=False, random_state=None, verbose=0,\r\n",
    "            warm_start=False)\r\n",
    "random_forest.fit(X, y)\r\n",
    "Y_pred_rf = random_forest.predict(X_test)\r\n",
    "acc_random_forest = round(random_forest.score(X, y) * 100, 2)\r\n",
    "\r\n",
    "print(\"Important features\")\r\n",
    "pd.Series(random_forest.feature_importances_, X.columns).sort_values(ascending=True).plot.barh(width=0.8)\r\n",
    "print('__'*30)\r\n",
    "print(acc_random_forest)"
   ]
  },
  {
   "cell_type": "code",
   "execution_count": 762,
   "metadata": {},
   "outputs": [],
   "source": [
    "df_result = pd.DataFrame({\"PassengerId\": range(892, 1310), \"Survived\": Y_pred_rf})\n",
    "df_result.to_csv(\"result_RandomForest.csv\", index=False)"
   ]
  },
  {
   "source": [
    "## Another random Forest"
   ],
   "cell_type": "markdown",
   "metadata": {}
  },
  {
   "cell_type": "code",
   "execution_count": 768,
   "metadata": {},
   "outputs": [],
   "source": [
    "model = RandomForestClassifier(n_estimators=2000, min_samples_leaf=3, max_features=0.5, n_jobs=-1)\n",
    "model.fit(X, y)\n",
    "model.score(X, y)\n",
    "y_pred = model.predict(X_test)"
   ]
  },
  {
   "cell_type": "code",
   "execution_count": 769,
   "metadata": {},
   "outputs": [],
   "source": [
    "df_result = pd.DataFrame({\"PassengerId\": range(892, 1310), \"Survived\": y_pred})\n",
    "df_result.to_csv(\"result_RandomForest_2.csv\", index=False)"
   ]
  },
  {
   "cell_type": "code",
   "execution_count": null,
   "metadata": {},
   "outputs": [],
   "source": []
  }
 ]
}